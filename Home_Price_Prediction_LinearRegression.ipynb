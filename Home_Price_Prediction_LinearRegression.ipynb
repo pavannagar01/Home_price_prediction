{
 "cells": [
  {
   "cell_type": "markdown",
   "metadata": {},
   "source": [
    "# house Price Prediction "
   ]
  },
  {
   "cell_type": "markdown",
   "metadata": {},
   "source": [
    "# Import the required libraries for Linear Regression"
   ]
  },
  {
   "cell_type": "code",
   "execution_count": 2,
   "metadata": {},
   "outputs": [],
   "source": [
    "import numpy as np \n",
    "import pandas as pd\n",
    "import seaborn as sns \n",
    "import matplotlib.pyplot as plt \n",
    "%matplotlib inline \n",
    "from sklearn.linear_model import LinearRegression\n",
    "from sklearn.model_selection import train_test_split\n",
    "\n"
   ]
  },
  {
   "cell_type": "code",
   "execution_count": 3,
   "metadata": {},
   "outputs": [],
   "source": [
    "sns.set_style(\"whitegrid\")"
   ]
  },
  {
   "cell_type": "code",
   "execution_count": 6,
   "metadata": {},
   "outputs": [
    {
     "data": {
      "text/plain": [
       "'C:\\\\Users\\\\stayclassy\\\\Machine Learning\\\\ML PROJECT'"
      ]
     },
     "execution_count": 6,
     "metadata": {},
     "output_type": "execute_result"
    }
   ],
   "source": [
    "pwd"
   ]
  },
  {
   "cell_type": "code",
   "execution_count": 5,
   "metadata": {},
   "outputs": [
    {
     "name": "stdout",
     "output_type": "stream",
     "text": [
      "C:\\Users\\stayclassy\\Desktop\\python\\Machine Learning\\L Rigression\\Project\n"
     ]
    }
   ],
   "source": [
    "cd C:\\Users\\stayclassy\\Desktop\\python\\Machine Learning\\L Rigression\\Project"
   ]
  },
  {
   "cell_type": "code",
   "execution_count": 6,
   "metadata": {},
   "outputs": [],
   "source": [
    "df = pd.read_csv(\"melbourne_housing.csv\")"
   ]
  },
  {
   "cell_type": "code",
   "execution_count": 5,
   "metadata": {
    "scrolled": false
   },
   "outputs": [
    {
     "data": {
      "text/html": [
       "<div>\n",
       "<style scoped>\n",
       "    .dataframe tbody tr th:only-of-type {\n",
       "        vertical-align: middle;\n",
       "    }\n",
       "\n",
       "    .dataframe tbody tr th {\n",
       "        vertical-align: top;\n",
       "    }\n",
       "\n",
       "    .dataframe thead th {\n",
       "        text-align: right;\n",
       "    }\n",
       "</style>\n",
       "<table border=\"1\" class=\"dataframe\">\n",
       "  <thead>\n",
       "    <tr style=\"text-align: right;\">\n",
       "      <th></th>\n",
       "      <th>Suburb</th>\n",
       "      <th>Address</th>\n",
       "      <th>Rooms</th>\n",
       "      <th>Type</th>\n",
       "      <th>Price</th>\n",
       "      <th>Method</th>\n",
       "      <th>SellerG</th>\n",
       "      <th>Date</th>\n",
       "      <th>Distance</th>\n",
       "      <th>Postcode</th>\n",
       "      <th>...</th>\n",
       "      <th>Bathroom</th>\n",
       "      <th>Car</th>\n",
       "      <th>Landsize</th>\n",
       "      <th>BuildingArea</th>\n",
       "      <th>YearBuilt</th>\n",
       "      <th>CouncilArea</th>\n",
       "      <th>Lattitude</th>\n",
       "      <th>Longtitude</th>\n",
       "      <th>Regionname</th>\n",
       "      <th>Propertycount</th>\n",
       "    </tr>\n",
       "  </thead>\n",
       "  <tbody>\n",
       "    <tr>\n",
       "      <th>0</th>\n",
       "      <td>Abbotsford</td>\n",
       "      <td>68 Studley St</td>\n",
       "      <td>2</td>\n",
       "      <td>h</td>\n",
       "      <td>NaN</td>\n",
       "      <td>SS</td>\n",
       "      <td>Jellis</td>\n",
       "      <td>03/09/2016</td>\n",
       "      <td>2.5</td>\n",
       "      <td>3067.0</td>\n",
       "      <td>...</td>\n",
       "      <td>1.0</td>\n",
       "      <td>1.0</td>\n",
       "      <td>126.0</td>\n",
       "      <td>NaN</td>\n",
       "      <td>NaN</td>\n",
       "      <td>Yarra City Council</td>\n",
       "      <td>-37.8014</td>\n",
       "      <td>144.9958</td>\n",
       "      <td>Northern Metropolitan</td>\n",
       "      <td>4019.0</td>\n",
       "    </tr>\n",
       "    <tr>\n",
       "      <th>1</th>\n",
       "      <td>Abbotsford</td>\n",
       "      <td>85 Turner St</td>\n",
       "      <td>2</td>\n",
       "      <td>h</td>\n",
       "      <td>1480000.0</td>\n",
       "      <td>S</td>\n",
       "      <td>Biggin</td>\n",
       "      <td>03/12/2016</td>\n",
       "      <td>2.5</td>\n",
       "      <td>3067.0</td>\n",
       "      <td>...</td>\n",
       "      <td>1.0</td>\n",
       "      <td>1.0</td>\n",
       "      <td>202.0</td>\n",
       "      <td>NaN</td>\n",
       "      <td>NaN</td>\n",
       "      <td>Yarra City Council</td>\n",
       "      <td>-37.7996</td>\n",
       "      <td>144.9984</td>\n",
       "      <td>Northern Metropolitan</td>\n",
       "      <td>4019.0</td>\n",
       "    </tr>\n",
       "    <tr>\n",
       "      <th>2</th>\n",
       "      <td>Abbotsford</td>\n",
       "      <td>25 Bloomburg St</td>\n",
       "      <td>2</td>\n",
       "      <td>h</td>\n",
       "      <td>1035000.0</td>\n",
       "      <td>S</td>\n",
       "      <td>Biggin</td>\n",
       "      <td>04/02/2016</td>\n",
       "      <td>2.5</td>\n",
       "      <td>3067.0</td>\n",
       "      <td>...</td>\n",
       "      <td>1.0</td>\n",
       "      <td>0.0</td>\n",
       "      <td>156.0</td>\n",
       "      <td>79.0</td>\n",
       "      <td>1900.0</td>\n",
       "      <td>Yarra City Council</td>\n",
       "      <td>-37.8079</td>\n",
       "      <td>144.9934</td>\n",
       "      <td>Northern Metropolitan</td>\n",
       "      <td>4019.0</td>\n",
       "    </tr>\n",
       "    <tr>\n",
       "      <th>3</th>\n",
       "      <td>Abbotsford</td>\n",
       "      <td>18/659 Victoria St</td>\n",
       "      <td>3</td>\n",
       "      <td>u</td>\n",
       "      <td>NaN</td>\n",
       "      <td>VB</td>\n",
       "      <td>Rounds</td>\n",
       "      <td>04/02/2016</td>\n",
       "      <td>2.5</td>\n",
       "      <td>3067.0</td>\n",
       "      <td>...</td>\n",
       "      <td>2.0</td>\n",
       "      <td>1.0</td>\n",
       "      <td>0.0</td>\n",
       "      <td>NaN</td>\n",
       "      <td>NaN</td>\n",
       "      <td>Yarra City Council</td>\n",
       "      <td>-37.8114</td>\n",
       "      <td>145.0116</td>\n",
       "      <td>Northern Metropolitan</td>\n",
       "      <td>4019.0</td>\n",
       "    </tr>\n",
       "    <tr>\n",
       "      <th>4</th>\n",
       "      <td>Abbotsford</td>\n",
       "      <td>5 Charles St</td>\n",
       "      <td>3</td>\n",
       "      <td>h</td>\n",
       "      <td>1465000.0</td>\n",
       "      <td>SP</td>\n",
       "      <td>Biggin</td>\n",
       "      <td>04/03/2017</td>\n",
       "      <td>2.5</td>\n",
       "      <td>3067.0</td>\n",
       "      <td>...</td>\n",
       "      <td>2.0</td>\n",
       "      <td>0.0</td>\n",
       "      <td>134.0</td>\n",
       "      <td>150.0</td>\n",
       "      <td>1900.0</td>\n",
       "      <td>Yarra City Council</td>\n",
       "      <td>-37.8093</td>\n",
       "      <td>144.9944</td>\n",
       "      <td>Northern Metropolitan</td>\n",
       "      <td>4019.0</td>\n",
       "    </tr>\n",
       "  </tbody>\n",
       "</table>\n",
       "<p>5 rows × 21 columns</p>\n",
       "</div>"
      ],
      "text/plain": [
       "       Suburb             Address  Rooms Type      Price Method SellerG  \\\n",
       "0  Abbotsford       68 Studley St      2    h        NaN     SS  Jellis   \n",
       "1  Abbotsford        85 Turner St      2    h  1480000.0      S  Biggin   \n",
       "2  Abbotsford     25 Bloomburg St      2    h  1035000.0      S  Biggin   \n",
       "3  Abbotsford  18/659 Victoria St      3    u        NaN     VB  Rounds   \n",
       "4  Abbotsford        5 Charles St      3    h  1465000.0     SP  Biggin   \n",
       "\n",
       "         Date  Distance  Postcode  ...  Bathroom  Car  Landsize  BuildingArea  \\\n",
       "0  03/09/2016       2.5    3067.0  ...       1.0  1.0     126.0           NaN   \n",
       "1  03/12/2016       2.5    3067.0  ...       1.0  1.0     202.0           NaN   \n",
       "2  04/02/2016       2.5    3067.0  ...       1.0  0.0     156.0          79.0   \n",
       "3  04/02/2016       2.5    3067.0  ...       2.0  1.0       0.0           NaN   \n",
       "4  04/03/2017       2.5    3067.0  ...       2.0  0.0     134.0         150.0   \n",
       "\n",
       "   YearBuilt         CouncilArea Lattitude  Longtitude             Regionname  \\\n",
       "0        NaN  Yarra City Council  -37.8014    144.9958  Northern Metropolitan   \n",
       "1        NaN  Yarra City Council  -37.7996    144.9984  Northern Metropolitan   \n",
       "2     1900.0  Yarra City Council  -37.8079    144.9934  Northern Metropolitan   \n",
       "3        NaN  Yarra City Council  -37.8114    145.0116  Northern Metropolitan   \n",
       "4     1900.0  Yarra City Council  -37.8093    144.9944  Northern Metropolitan   \n",
       "\n",
       "  Propertycount  \n",
       "0        4019.0  \n",
       "1        4019.0  \n",
       "2        4019.0  \n",
       "3        4019.0  \n",
       "4        4019.0  \n",
       "\n",
       "[5 rows x 21 columns]"
      ]
     },
     "execution_count": 5,
     "metadata": {},
     "output_type": "execute_result"
    }
   ],
   "source": [
    "df.head()"
   ]
  },
  {
   "cell_type": "code",
   "execution_count": 20,
   "metadata": {
    "scrolled": true
   },
   "outputs": [
    {
     "data": {
      "text/plain": [
       "(34857, 21)"
      ]
     },
     "execution_count": 20,
     "metadata": {},
     "output_type": "execute_result"
    }
   ],
   "source": [
    "df.shape"
   ]
  },
  {
   "cell_type": "code",
   "execution_count": 19,
   "metadata": {},
   "outputs": [
    {
     "name": "stdout",
     "output_type": "stream",
     "text": [
      "<class 'pandas.core.frame.DataFrame'>\n",
      "RangeIndex: 34857 entries, 0 to 34856\n",
      "Data columns (total 21 columns):\n",
      " #   Column         Non-Null Count  Dtype  \n",
      "---  ------         --------------  -----  \n",
      " 0   Suburb         34857 non-null  object \n",
      " 1   Address        34857 non-null  object \n",
      " 2   Rooms          34857 non-null  int64  \n",
      " 3   Type           34857 non-null  object \n",
      " 4   Price          27247 non-null  float64\n",
      " 5   Method         34857 non-null  object \n",
      " 6   SellerG        34857 non-null  object \n",
      " 7   Date           34857 non-null  object \n",
      " 8   Distance       34856 non-null  float64\n",
      " 9   Postcode       34856 non-null  float64\n",
      " 10  Bedroom2       26640 non-null  float64\n",
      " 11  Bathroom       26631 non-null  float64\n",
      " 12  Car            26129 non-null  float64\n",
      " 13  Landsize       23047 non-null  float64\n",
      " 14  BuildingArea   13742 non-null  float64\n",
      " 15  YearBuilt      15551 non-null  float64\n",
      " 16  CouncilArea    34854 non-null  object \n",
      " 17  Lattitude      26881 non-null  float64\n",
      " 18  Longtitude     26881 non-null  float64\n",
      " 19  Regionname     34854 non-null  object \n",
      " 20  Propertycount  34854 non-null  float64\n",
      "dtypes: float64(12), int64(1), object(8)\n",
      "memory usage: 5.6+ MB\n"
     ]
    }
   ],
   "source": [
    "df.info()"
   ]
  },
  {
   "cell_type": "code",
   "execution_count": 17,
   "metadata": {},
   "outputs": [
    {
     "data": {
      "text/html": [
       "<div>\n",
       "<style scoped>\n",
       "    .dataframe tbody tr th:only-of-type {\n",
       "        vertical-align: middle;\n",
       "    }\n",
       "\n",
       "    .dataframe tbody tr th {\n",
       "        vertical-align: top;\n",
       "    }\n",
       "\n",
       "    .dataframe thead th {\n",
       "        text-align: right;\n",
       "    }\n",
       "</style>\n",
       "<table border=\"1\" class=\"dataframe\">\n",
       "  <thead>\n",
       "    <tr style=\"text-align: right;\">\n",
       "      <th></th>\n",
       "      <th>count</th>\n",
       "      <th>mean</th>\n",
       "      <th>std</th>\n",
       "      <th>min</th>\n",
       "      <th>25%</th>\n",
       "      <th>50%</th>\n",
       "      <th>75%</th>\n",
       "      <th>max</th>\n",
       "    </tr>\n",
       "  </thead>\n",
       "  <tbody>\n",
       "    <tr>\n",
       "      <th>Rooms</th>\n",
       "      <td>34857.0</td>\n",
       "      <td>3.031012e+00</td>\n",
       "      <td>0.969933</td>\n",
       "      <td>1.00000</td>\n",
       "      <td>2.00000</td>\n",
       "      <td>3.0000</td>\n",
       "      <td>4.000000e+00</td>\n",
       "      <td>1.600000e+01</td>\n",
       "    </tr>\n",
       "    <tr>\n",
       "      <th>Price</th>\n",
       "      <td>27247.0</td>\n",
       "      <td>1.050173e+06</td>\n",
       "      <td>641467.130105</td>\n",
       "      <td>85000.00000</td>\n",
       "      <td>635000.00000</td>\n",
       "      <td>870000.0000</td>\n",
       "      <td>1.295000e+06</td>\n",
       "      <td>1.120000e+07</td>\n",
       "    </tr>\n",
       "    <tr>\n",
       "      <th>Distance</th>\n",
       "      <td>34856.0</td>\n",
       "      <td>1.118493e+01</td>\n",
       "      <td>6.788892</td>\n",
       "      <td>0.00000</td>\n",
       "      <td>6.40000</td>\n",
       "      <td>10.3000</td>\n",
       "      <td>1.400000e+01</td>\n",
       "      <td>4.810000e+01</td>\n",
       "    </tr>\n",
       "    <tr>\n",
       "      <th>Postcode</th>\n",
       "      <td>34856.0</td>\n",
       "      <td>3.116063e+03</td>\n",
       "      <td>109.023903</td>\n",
       "      <td>3000.00000</td>\n",
       "      <td>3051.00000</td>\n",
       "      <td>3103.0000</td>\n",
       "      <td>3.156000e+03</td>\n",
       "      <td>3.978000e+03</td>\n",
       "    </tr>\n",
       "    <tr>\n",
       "      <th>Bedroom2</th>\n",
       "      <td>26640.0</td>\n",
       "      <td>3.084647e+00</td>\n",
       "      <td>0.980690</td>\n",
       "      <td>0.00000</td>\n",
       "      <td>2.00000</td>\n",
       "      <td>3.0000</td>\n",
       "      <td>4.000000e+00</td>\n",
       "      <td>3.000000e+01</td>\n",
       "    </tr>\n",
       "    <tr>\n",
       "      <th>Bathroom</th>\n",
       "      <td>26631.0</td>\n",
       "      <td>1.624798e+00</td>\n",
       "      <td>0.724212</td>\n",
       "      <td>0.00000</td>\n",
       "      <td>1.00000</td>\n",
       "      <td>2.0000</td>\n",
       "      <td>2.000000e+00</td>\n",
       "      <td>1.200000e+01</td>\n",
       "    </tr>\n",
       "    <tr>\n",
       "      <th>Car</th>\n",
       "      <td>26129.0</td>\n",
       "      <td>1.728845e+00</td>\n",
       "      <td>1.010771</td>\n",
       "      <td>0.00000</td>\n",
       "      <td>1.00000</td>\n",
       "      <td>2.0000</td>\n",
       "      <td>2.000000e+00</td>\n",
       "      <td>2.600000e+01</td>\n",
       "    </tr>\n",
       "    <tr>\n",
       "      <th>Landsize</th>\n",
       "      <td>23047.0</td>\n",
       "      <td>5.935990e+02</td>\n",
       "      <td>3398.841946</td>\n",
       "      <td>0.00000</td>\n",
       "      <td>224.00000</td>\n",
       "      <td>521.0000</td>\n",
       "      <td>6.700000e+02</td>\n",
       "      <td>4.330140e+05</td>\n",
       "    </tr>\n",
       "    <tr>\n",
       "      <th>BuildingArea</th>\n",
       "      <td>13742.0</td>\n",
       "      <td>1.602564e+02</td>\n",
       "      <td>401.267060</td>\n",
       "      <td>0.00000</td>\n",
       "      <td>102.00000</td>\n",
       "      <td>136.0000</td>\n",
       "      <td>1.880000e+02</td>\n",
       "      <td>4.451500e+04</td>\n",
       "    </tr>\n",
       "    <tr>\n",
       "      <th>YearBuilt</th>\n",
       "      <td>15551.0</td>\n",
       "      <td>1.965290e+03</td>\n",
       "      <td>37.328178</td>\n",
       "      <td>1196.00000</td>\n",
       "      <td>1940.00000</td>\n",
       "      <td>1970.0000</td>\n",
       "      <td>2.000000e+03</td>\n",
       "      <td>2.106000e+03</td>\n",
       "    </tr>\n",
       "    <tr>\n",
       "      <th>Lattitude</th>\n",
       "      <td>26881.0</td>\n",
       "      <td>-3.781063e+01</td>\n",
       "      <td>0.090279</td>\n",
       "      <td>-38.19043</td>\n",
       "      <td>-37.86295</td>\n",
       "      <td>-37.8076</td>\n",
       "      <td>-3.775410e+01</td>\n",
       "      <td>-3.739020e+01</td>\n",
       "    </tr>\n",
       "    <tr>\n",
       "      <th>Longtitude</th>\n",
       "      <td>26881.0</td>\n",
       "      <td>1.450019e+02</td>\n",
       "      <td>0.120169</td>\n",
       "      <td>144.42379</td>\n",
       "      <td>144.93350</td>\n",
       "      <td>145.0078</td>\n",
       "      <td>1.450719e+02</td>\n",
       "      <td>1.455264e+02</td>\n",
       "    </tr>\n",
       "    <tr>\n",
       "      <th>Propertycount</th>\n",
       "      <td>34854.0</td>\n",
       "      <td>7.572888e+03</td>\n",
       "      <td>4428.090313</td>\n",
       "      <td>83.00000</td>\n",
       "      <td>4385.00000</td>\n",
       "      <td>6763.0000</td>\n",
       "      <td>1.041200e+04</td>\n",
       "      <td>2.165000e+04</td>\n",
       "    </tr>\n",
       "  </tbody>\n",
       "</table>\n",
       "</div>"
      ],
      "text/plain": [
       "                 count          mean            std          min  \\\n",
       "Rooms          34857.0  3.031012e+00       0.969933      1.00000   \n",
       "Price          27247.0  1.050173e+06  641467.130105  85000.00000   \n",
       "Distance       34856.0  1.118493e+01       6.788892      0.00000   \n",
       "Postcode       34856.0  3.116063e+03     109.023903   3000.00000   \n",
       "Bedroom2       26640.0  3.084647e+00       0.980690      0.00000   \n",
       "Bathroom       26631.0  1.624798e+00       0.724212      0.00000   \n",
       "Car            26129.0  1.728845e+00       1.010771      0.00000   \n",
       "Landsize       23047.0  5.935990e+02    3398.841946      0.00000   \n",
       "BuildingArea   13742.0  1.602564e+02     401.267060      0.00000   \n",
       "YearBuilt      15551.0  1.965290e+03      37.328178   1196.00000   \n",
       "Lattitude      26881.0 -3.781063e+01       0.090279    -38.19043   \n",
       "Longtitude     26881.0  1.450019e+02       0.120169    144.42379   \n",
       "Propertycount  34854.0  7.572888e+03    4428.090313     83.00000   \n",
       "\n",
       "                        25%          50%           75%           max  \n",
       "Rooms               2.00000       3.0000  4.000000e+00  1.600000e+01  \n",
       "Price          635000.00000  870000.0000  1.295000e+06  1.120000e+07  \n",
       "Distance            6.40000      10.3000  1.400000e+01  4.810000e+01  \n",
       "Postcode         3051.00000    3103.0000  3.156000e+03  3.978000e+03  \n",
       "Bedroom2            2.00000       3.0000  4.000000e+00  3.000000e+01  \n",
       "Bathroom            1.00000       2.0000  2.000000e+00  1.200000e+01  \n",
       "Car                 1.00000       2.0000  2.000000e+00  2.600000e+01  \n",
       "Landsize          224.00000     521.0000  6.700000e+02  4.330140e+05  \n",
       "BuildingArea      102.00000     136.0000  1.880000e+02  4.451500e+04  \n",
       "YearBuilt        1940.00000    1970.0000  2.000000e+03  2.106000e+03  \n",
       "Lattitude         -37.86295     -37.8076 -3.775410e+01 -3.739020e+01  \n",
       "Longtitude        144.93350     145.0078  1.450719e+02  1.455264e+02  \n",
       "Propertycount    4385.00000    6763.0000  1.041200e+04  2.165000e+04  "
      ]
     },
     "execution_count": 17,
     "metadata": {},
     "output_type": "execute_result"
    }
   ],
   "source": [
    "df.describe().T"
   ]
  },
  {
   "cell_type": "code",
   "execution_count": 21,
   "metadata": {},
   "outputs": [
    {
     "data": {
      "text/plain": [
       "Suburb               0\n",
       "Address              0\n",
       "Rooms                0\n",
       "Type                 0\n",
       "Price             7610\n",
       "Method               0\n",
       "SellerG              0\n",
       "Date                 0\n",
       "Distance             1\n",
       "Postcode             1\n",
       "Bedroom2          8217\n",
       "Bathroom          8226\n",
       "Car               8728\n",
       "Landsize         11810\n",
       "BuildingArea     21115\n",
       "YearBuilt        19306\n",
       "CouncilArea          3\n",
       "Lattitude         7976\n",
       "Longtitude        7976\n",
       "Regionname           3\n",
       "Propertycount        3\n",
       "dtype: int64"
      ]
     },
     "execution_count": 21,
     "metadata": {},
     "output_type": "execute_result"
    }
   ],
   "source": [
    "df.isnull().sum()"
   ]
  },
  {
   "cell_type": "code",
   "execution_count": 9,
   "metadata": {
    "scrolled": false
   },
   "outputs": [
    {
     "data": {
      "text/plain": [
       "0        False\n",
       "1        False\n",
       "2        False\n",
       "3        False\n",
       "4        False\n",
       "         ...  \n",
       "34852    False\n",
       "34853    False\n",
       "34854    False\n",
       "34855    False\n",
       "34856    False\n",
       "Name: Price, Length: 34857, dtype: bool"
      ]
     },
     "execution_count": 9,
     "metadata": {},
     "output_type": "execute_result"
    }
   ],
   "source": [
    "df[\"Price\"]==np.nan"
   ]
  },
  {
   "cell_type": "code",
   "execution_count": 78,
   "metadata": {
    "scrolled": true
   },
   "outputs": [
    {
     "data": {
      "text/plain": [
       "Index(['Suburb', 'Rooms', 'Type', 'Price', 'Method', 'SellerG', 'Date',\n",
       "       'Distance', 'Postcode', 'Bathroom', 'Car', 'Landsize', 'BuildingArea',\n",
       "       'YearBuilt', 'CouncilArea', 'Regionname', 'Propertycount'],\n",
       "      dtype='object')"
      ]
     },
     "execution_count": 78,
     "metadata": {},
     "output_type": "execute_result"
    }
   ],
   "source": [
    "df.columns"
   ]
  },
  {
   "cell_type": "code",
   "execution_count": null,
   "metadata": {},
   "outputs": [],
   "source": [
    "# exploring data column to column"
   ]
  },
  {
   "cell_type": "code",
   "execution_count": 46,
   "metadata": {
    "scrolled": false
   },
   "outputs": [
    {
     "data": {
      "text/plain": [
       "(array(['Abbotsford', 'Airport West', 'Albert Park', 'Alphington',\n",
       "        'Altona', 'Altona North', 'Armadale', 'Ascot Vale', 'Ashburton',\n",
       "        'Ashwood', 'Avondale Heights', 'Balaclava', 'Balwyn',\n",
       "        'Balwyn North', 'Bentleigh', 'Bentleigh East', 'Box Hill',\n",
       "        'Braybrook', 'Brighton', 'Brighton East', 'Brunswick',\n",
       "        'Brunswick West', 'Bulleen', 'Burwood', 'Camberwell', 'Canterbury',\n",
       "        'Carlton North', 'Carnegie', 'Caulfield', 'Caulfield North',\n",
       "        'Caulfield South', 'Chadstone', 'Clifton Hill', 'Coburg',\n",
       "        'Coburg North', 'Collingwood', 'Doncaster', 'Eaglemont',\n",
       "        'Elsternwick', 'Elwood', 'Essendon', 'Essendon North', 'Fairfield',\n",
       "        'Fitzroy', 'Fitzroy North', 'Flemington', 'Footscray', 'Glen Iris',\n",
       "        'Glenroy', 'Gowanbrae', 'Hadfield', 'Hampton', 'Hampton East',\n",
       "        'Hawthorn', 'Heidelberg Heights', 'Heidelberg West', 'Hughesdale',\n",
       "        'Ivanhoe', 'Kealba', 'Keilor East', 'Kensington', 'Kew',\n",
       "        'Kew East', 'Kooyong', 'Maidstone', 'Malvern', 'Malvern East',\n",
       "        'Maribyrnong', 'Melbourne', 'Middle Park', 'Mont Albert',\n",
       "        'Moonee Ponds', 'Moorabbin', 'Newport', 'Niddrie',\n",
       "        'North Melbourne', 'Northcote', 'Oak Park', 'Oakleigh South',\n",
       "        'Parkville', 'Pascoe Vale', 'Port Melbourne', 'Prahran', 'Preston',\n",
       "        'Reservoir', 'Richmond', 'Rosanna', 'Seddon', 'South Melbourne',\n",
       "        'South Yarra', 'Southbank', 'Spotswood', 'St Kilda', 'Strathmore',\n",
       "        'Sunshine', 'Sunshine North', 'Sunshine West', 'Surrey Hills',\n",
       "        'Templestowe Lower', 'Thornbury', 'Toorak', 'Viewbank', 'Watsonia',\n",
       "        'West Melbourne', 'Williamstown', 'Williamstown North', 'Windsor',\n",
       "        'Yallambie', 'Yarraville', 'Aberfeldie', 'Bellfield',\n",
       "        'Brunswick East', 'Burnley', 'Campbellfield', 'Carlton',\n",
       "        'East Melbourne', 'Essendon West', 'Fawkner', 'Hawthorn East',\n",
       "        'Heidelberg', 'Ivanhoe East', 'Jacana', 'Kingsbury', 'Kingsville',\n",
       "        'Murrumbeena', 'Ormond', 'West Footscray', 'Albion', 'Brooklyn',\n",
       "        'Glen Huntly', 'Oakleigh', 'Ripponlea', 'Cremorne', 'Docklands',\n",
       "        'South Kingsville', 'Strathmore Heights', 'Travancore',\n",
       "        'Caulfield East', 'Seaholme', 'Keilor Park', 'Gardenvale',\n",
       "        'Princes Hill', 'Altona Meadows', 'Ardeer', 'Attwood', 'Bayswater',\n",
       "        'Bayswater North', 'Beaumaris', 'Berwick', 'Blackburn',\n",
       "        'Blackburn South', 'Boronia', 'Briar Hill', 'Broadmeadows',\n",
       "        'Bundoora', 'Burnside Heights', 'Burwood East', 'Cairnlea',\n",
       "        'Caroline Springs', 'Cheltenham', 'Clarinda', 'Clayton',\n",
       "        'Clyde North', 'Craigieburn', 'Cranbourne', 'Croydon',\n",
       "        'Croydon Hills', 'Croydon North', 'Dandenong', 'Dandenong North',\n",
       "        'Diamond Creek', 'Dingley Village', 'Doncaster East', 'Donvale',\n",
       "        'Doreen', 'Edithvale', 'Eltham', 'Eltham North', 'Emerald',\n",
       "        'Epping', 'Eumemmerring', 'Ferntree Gully', 'Forest Hill',\n",
       "        'Frankston', 'Frankston North', 'Frankston South', 'Gisborne',\n",
       "        'Gladstone Park', 'Glen Waverley', 'Greensborough', 'Greenvale',\n",
       "        'Hallam', 'Healesville', 'Heathmont', 'Highett', 'Hillside',\n",
       "        'Hoppers Crossing', 'Huntingdale', 'Keilor Downs', 'Keilor Lodge',\n",
       "        'Keysborough', 'Kings Park', 'Lalor', 'Lower Plenty', 'Lynbrook',\n",
       "        'MacLeod', 'Melton', 'Melton South', 'Melton West', 'Mentone',\n",
       "        'Mernda', 'Mickleham', 'Mill Park', 'Mitcham', 'Montmorency',\n",
       "        'Montrose', 'Mordialloc', 'Mount Waverley', 'Mulgrave',\n",
       "        'Narre Warren', 'Noble Park', 'Nunawading', 'Oakleigh East',\n",
       "        'Parkdale', 'Point Cook', 'Ringwood', 'Ringwood East', 'Rockbank',\n",
       "        'Rowville', 'Roxburgh Park', 'Sandringham', 'Seabrook', 'Seaford',\n",
       "        'Skye', 'South Morang', 'Springvale', 'Springvale South',\n",
       "        'St Albans', 'St Helena', 'Sunbury', 'Sydenham', 'Tarneit',\n",
       "        'Taylors Hill', 'Taylors Lakes', 'Tecoma', 'Templestowe',\n",
       "        'The Basin', 'Thomastown', 'Truganina', 'Tullamarine', 'Vermont',\n",
       "        'Vermont South', 'Wantirna', 'Wantirna South', 'Werribee',\n",
       "        'Werribee South', 'Westmeadows', 'Williams Landing', 'Wollert',\n",
       "        'Wyndham Vale', 'Aspendale', 'Black Rock', 'Blackburn North',\n",
       "        'Bonbeach', 'Carrum', 'Chelsea', 'Clayton South', 'Dallas',\n",
       "        'Delahey', 'Doveton', 'McKinnon', 'Mooroolbark', 'Pakenham',\n",
       "        'Ringwood North', 'Scoresby', 'Warrandyte', 'Watsonia North',\n",
       "        'Wattle Glen', 'Wheelers Hill', 'Albanvale', 'Aspendale Gardens',\n",
       "        'Belgrave', 'Carrum Downs', 'Cranbourne East', 'Cranbourne North',\n",
       "        'Deer Park', 'Heatherton', 'Kilsyth', 'Langwarrin', 'Notting Hill',\n",
       "        'Patterson Lakes', 'Riddells Creek', 'Beaconsfield Upper',\n",
       "        'Chelsea Heights', 'Chirnside Park', 'Coolaroo', 'Darley',\n",
       "        'Hampton Park', 'Keilor', 'Meadow Heights', 'Mount Evelyn',\n",
       "        'North Warrandyte', 'Sandhurst', 'Silvan', 'Wallan',\n",
       "        'Croydon South', 'Derrimut', 'Diggers Rest', 'Knoxfield', 'Upwey',\n",
       "        'Warranwood', 'Bacchus Marsh', 'Bullengarook', 'Deepdene',\n",
       "        'Hurstbridge', 'Kurunjang', 'Laverton', 'Lilydale', 'Wonga Park',\n",
       "        'Endeavour Hills', 'Officer', 'Olinda', 'Waterways',\n",
       "        'Beaconsfield', 'Yarra Glen', 'Brookfield', 'Lysterfield',\n",
       "        'Plenty', 'Whittlesea', 'Burnside', 'New Gisborne', 'Guys Hill',\n",
       "        'Plumpton', 'croydon', 'Monbulk', 'Avonsleigh', 'Wildwood',\n",
       "        'Gisborne South', 'Research', 'viewbank', 'Botanic Ridge', 'Bulla',\n",
       "        'Coldstream', 'Hopetoun Park', 'Cranbourne West', 'Eynesbury',\n",
       "        'Fawkner Lot', 'Ferny Creek', 'Wandin North', 'Kalkallo',\n",
       "        'Menzies Creek'], dtype=object),\n",
       " 351)"
      ]
     },
     "execution_count": 46,
     "metadata": {},
     "output_type": "execute_result"
    }
   ],
   "source": [
    "df[\"Suburb\"].unique(),df[\"Suburb\"].nunique()"
   ]
  },
  {
   "cell_type": "code",
   "execution_count": 93,
   "metadata": {},
   "outputs": [
    {
     "data": {
      "text/plain": [
       "Suburb\n",
       "Abbotsford      137\n",
       "Aberfeldie       80\n",
       "Airport West    162\n",
       "Albanvale        14\n",
       "Albert Park     131\n",
       "               ... \n",
       "Yallambie        50\n",
       "Yarra Glen        1\n",
       "Yarraville      304\n",
       "croydon           1\n",
       "viewbank          1\n",
       "Name: Suburb, Length: 350, dtype: int64"
      ]
     },
     "execution_count": 93,
     "metadata": {},
     "output_type": "execute_result"
    }
   ],
   "source": [
    "df.groupby('Suburb')['Suburb'].count()"
   ]
  },
  {
   "cell_type": "code",
   "execution_count": 47,
   "metadata": {},
   "outputs": [
    {
     "data": {
      "text/plain": [
       "array([     nan, 1480000., 1035000., ..., 2685000., 1671000., 1605500.])"
      ]
     },
     "execution_count": 47,
     "metadata": {},
     "output_type": "execute_result"
    }
   ],
   "source": [
    "df[\"Price\"].unique()"
   ]
  },
  {
   "cell_type": "code",
   "execution_count": 48,
   "metadata": {
    "scrolled": true
   },
   "outputs": [
    {
     "data": {
      "text/plain": [
       "(array([ 2,  3,  4,  1,  5,  6,  7,  8, 10,  9, 12, 16], dtype=int64), 12)"
      ]
     },
     "execution_count": 48,
     "metadata": {},
     "output_type": "execute_result"
    }
   ],
   "source": [
    "df[\"Rooms\"].unique(),df[\"Rooms\"].nunique()"
   ]
  },
  {
   "cell_type": "code",
   "execution_count": 94,
   "metadata": {},
   "outputs": [
    {
     "data": {
      "text/plain": [
       "Rooms\n",
       "1      1479\n",
       "2      8330\n",
       "3     15082\n",
       "4      7956\n",
       "5      1737\n",
       "6       204\n",
       "7        32\n",
       "8        19\n",
       "9         4\n",
       "10        6\n",
       "12        3\n",
       "Name: Rooms, dtype: int64"
      ]
     },
     "execution_count": 94,
     "metadata": {},
     "output_type": "execute_result"
    }
   ],
   "source": [
    "df.groupby('Rooms')['Rooms'].count()"
   ]
  },
  {
   "cell_type": "code",
   "execution_count": 50,
   "metadata": {
    "scrolled": true
   },
   "outputs": [
    {
     "data": {
      "text/plain": [
       "(array(['h', 'u', 't'], dtype=object), 3)"
      ]
     },
     "execution_count": 50,
     "metadata": {},
     "output_type": "execute_result"
    }
   ],
   "source": [
    "df['Type'].unique()"
   ]
  },
  {
   "cell_type": "code",
   "execution_count": 65,
   "metadata": {},
   "outputs": [
    {
     "data": {
      "text/plain": [
       "array([         nan, 7.900000e+01, 1.500000e+02, 1.420000e+02,\n",
       "       2.200000e+02, 2.100000e+02, 8.200000e+01, 1.470000e+02,\n",
       "       1.070000e+02, 7.500000e+01, 8.000000e+01, 1.900000e+02,\n",
       "       9.400000e+01, 9.700000e+01, 1.290000e+02, 1.100000e+02,\n",
       "       1.050000e+02, 7.300000e+01, 1.350000e+02, 1.670000e+02,\n",
       "       2.700000e+01, 6.000000e+01, 8.500000e+01, 1.740000e+02,\n",
       "       5.000000e+01, 1.280000e+02, 1.800000e+01, 1.240000e+02,\n",
       "       9.100000e+01, 8.100000e+01, 2.250000e+02, 1.450000e+02,\n",
       "       1.140000e+02, 8.400000e+01, 1.340000e+02, 1.160000e+02,\n",
       "       8.600000e+01, 1.270000e+02, 1.860000e+02, 9.000000e+01,\n",
       "       1.330000e+02, 1.300000e+02, 1.130000e+02, 1.000000e+02,\n",
       "       3.090000e+02, 1.920000e+02, 1.260000e+02, 1.010000e+02,\n",
       "       1.020000e+02, 7.600000e+01, 1.460000e+02, 1.980000e+02,\n",
       "       1.800000e+02, 1.250000e+02, 1.590000e+02, 1.220000e+02,\n",
       "       8.800000e+01, 1.810000e+02, 1.170000e+02, 9.800000e+01,\n",
       "       8.300000e+01, 2.540000e+02, 1.230000e+02, 1.190000e+02,\n",
       "       1.310000e+02, 3.400000e+01, 2.070000e+02, 6.800000e+01,\n",
       "       6.500000e+01, 1.850000e+02, 5.400000e+01, 2.630000e+02,\n",
       "       2.030000e+02, 1.650000e+02, 1.400000e+02, 1.120000e+02,\n",
       "       2.710000e+02, 6.100000e+01, 2.720000e+02, 2.110000e+02,\n",
       "       2.420000e+02, 2.680000e+02, 1.200000e+02, 9.300000e+01,\n",
       "       2.200000e+01, 5.700000e+01, 1.520000e+02, 1.760000e+02,\n",
       "       1.410000e+02, 7.700000e+01, 8.700000e+01, 1.360000e+02,\n",
       "       5.800000e+01, 3.000000e+00, 1.080000e+02, 2.510000e+02,\n",
       "       1.180000e+02, 1.690000e+02, 1.960000e+02, 1.090000e+02,\n",
       "       4.600000e+01, 6.030000e+02, 1.700000e+02, 1.570000e+02,\n",
       "       1.600000e+02, 1.580000e+02, 7.000000e+01, 1.680000e+02,\n",
       "       1.400000e+01, 2.920000e+02, 3.800000e+01, 2.080000e+02,\n",
       "       2.040000e+02, 1.430000e+02, 9.600000e+01, 2.220000e+02,\n",
       "       1.820000e+02, 1.110000e+02, 1.210000e+02, 1.630000e+02,\n",
       "       5.160000e+02, 2.320000e+02, 5.300000e+01, 1.060000e+02,\n",
       "       6.700000e+01, 7.400000e+01, 1.490000e+02, 3.330000e+02,\n",
       "       2.850000e+02, 1.550000e+02, 6.200000e+01, 2.700000e+02,\n",
       "       4.350000e+02, 9.200000e+01, 1.480000e+02, 1.770000e+02,\n",
       "       1.390000e+02, 1.950000e+02, 2.860000e+02, 1.040000e+02,\n",
       "       1.320000e+02, 4.110000e+02, 4.020000e+02, 1.150000e+02,\n",
       "       6.900000e+01, 1.720000e+02, 1.440000e+02, 1.660000e+02,\n",
       "       1.750000e+02, 7.100000e+01, 2.730000e+02, 3.990000e+02,\n",
       "       3.150000e+02, 1.780000e+02, 6.180000e+02, 2.280000e+02,\n",
       "       3.980000e+02, 4.440000e+02, 3.900000e+02, 2.060000e+02,\n",
       "       1.970000e+02, 1.990000e+02, 2.660000e+02, 2.740000e+02,\n",
       "       2.400000e+02, 2.780000e+02, 1.640000e+02, 2.010000e+02,\n",
       "       3.020000e+02, 7.920000e+02, 2.150000e+02, 1.510000e+02,\n",
       "       2.550000e+02, 3.170000e+02, 2.350000e+02, 3.110000e+02,\n",
       "       2.430000e+02, 1.030000e+02, 5.000000e+02, 2.810000e+02,\n",
       "       3.950000e+02, 1.530000e+02, 4.900000e+01, 5.900000e+01,\n",
       "       5.100000e+01, 2.180000e+02, 4.200000e+02, 2.260000e+02,\n",
       "       4.100000e+02, 4.490000e+02, 3.560000e+02, 3.490000e+02,\n",
       "       2.500000e+02, 3.260000e+02, 7.200000e+01, 2.520000e+02,\n",
       "       2.000000e+02, 3.080000e+02, 2.410000e+02, 4.650000e+02,\n",
       "       3.360000e+02, 5.020000e+02, 2.640000e+02, 2.530000e+02,\n",
       "       3.500000e+02, 3.220000e+02, 3.140000e+02, 3.930000e+02,\n",
       "       2.910000e+02, 2.760000e+02, 1.930000e+02, 2.600000e+02,\n",
       "       3.230000e+02, 1.540000e+02, 2.750000e+02, 4.770000e+02,\n",
       "       1.370000e+02, 2.050000e+02, 2.140000e+02, 5.200000e+02,\n",
       "       2.330000e+02, 3.300000e+02, 3.650000e+02, 4.450000e+02,\n",
       "       3.550000e+02, 2.470000e+02, 1.880000e+02, 3.600000e+02,\n",
       "       5.290000e+02, 2.440000e+02, 2.960000e+02, 7.200000e+02,\n",
       "       5.180000e+02, 5.000000e+00, 5.420000e+02, 2.390000e+02,\n",
       "       2.120000e+02, 1.940000e+02, 1.380000e+02, 3.530000e+02,\n",
       "       4.750000e+02, 2.450000e+02, 2.840000e+02, 3.610000e+02,\n",
       "       7.660000e+02, 9.500000e+01, 1.910000e+02, 7.800000e+01,\n",
       "       2.800000e+02, 2.310000e+02, 1.560000e+02, 2.570000e+02,\n",
       "       2.560000e+02, 3.370000e+02, 2.800000e+01, 2.650000e+02,\n",
       "       5.380000e+02, 9.900000e+01, 2.190000e+02, 1.044000e+03,\n",
       "       1.620000e+02, 2.380000e+02, 2.160000e+02, 4.320000e+02,\n",
       "       2.580000e+02, 2.090000e+02, 3.000000e+02, 1.710000e+02,\n",
       "       3.410000e+02, 3.400000e+02, 2.830000e+02, 2.020000e+02,\n",
       "       2.620000e+02, 3.640000e+02, 4.120000e+02, 2.210000e+02,\n",
       "       3.010000e+02, 4.230000e+02, 4.000000e+01, 4.190000e+02,\n",
       "       2.290000e+02, 3.050000e+02, 2.000000e+00, 3.190000e+02,\n",
       "       2.460000e+02, 1.610000e+02, 3.040000e+02, 3.420000e+02,\n",
       "       4.040000e+02, 3.700000e+02, 2.130000e+02, 1.830000e+02,\n",
       "       3.210000e+02, 1.870000e+02, 5.940000e+02, 3.940000e+02,\n",
       "       2.490000e+02, 2.890000e+02, 3.460000e+02, 6.600000e+01,\n",
       "       4.000000e+00, 2.880000e+02, 2.870000e+02, 4.500000e+01,\n",
       "       8.900000e+01, 5.500000e+01, 1.041000e+03, 1.000000e+00,\n",
       "       4.200000e+01, 3.700000e+01, 6.400000e+01, 4.300000e+01,\n",
       "       1.840000e+02, 6.791000e+03, 3.720000e+02, 7.190000e+02,\n",
       "       3.670000e+02, 3.800000e+02, 1.890000e+02, 3.480000e+02,\n",
       "       5.600000e+01, 4.670000e+02, 3.340000e+02, 3.070000e+02,\n",
       "       3.112000e+03, 4.070000e+02, 2.820000e+02, 4.530000e+02,\n",
       "       3.630000e+02, 2.970000e+02, 1.730000e+02, 4.270000e+02,\n",
       "       4.800000e+01, 3.300000e+01, 3.200000e+02, 2.370000e+02,\n",
       "       2.230000e+02, 5.440000e+02, 3.130000e+02, 6.300000e+01,\n",
       "       4.400000e+01, 2.770000e+02, 2.170000e+02, 4.600000e+02,\n",
       "       2.300000e+02, 4.700000e+01, 1.300000e+01, 5.200000e+01,\n",
       "       4.810000e+02, 4.290000e+02, 2.610000e+02, 3.060000e+02,\n",
       "       3.250000e+02, 2.980000e+02, 3.270000e+02, 3.710000e+02,\n",
       "       2.900000e+02, 2.360000e+02, 4.780000e+02, 1.561000e+03,\n",
       "       3.620000e+02, 2.670000e+02, 3.780000e+02, 2.240000e+02,\n",
       "       3.440000e+02, 2.270000e+02, 4.540000e+02, 7.000000e+02,\n",
       "       3.558000e+03, 4.400000e+02, 2.000000e+01, 3.500000e+01,\n",
       "       2.590000e+02, 3.510000e+02, 3.000000e+01, 2.480000e+02,\n",
       "       2.600000e+01, 3.380000e+02, 1.143000e+03, 6.070000e+02,\n",
       "       4.610000e+02, 3.540000e+02, 2.950000e+02, 4.010000e+02,\n",
       "       4.240000e+02, 6.720000e+02, 2.690000e+02, 1.900000e+01,\n",
       "       4.130000e+02, 3.240000e+02, 6.130000e+02, 3.030000e+02,\n",
       "       3.160000e+02, 3.740000e+02, 4.100000e+01, 2.340000e+02,\n",
       "       3.730000e+02, 1.700000e+01, 1.790000e+02, 4.140000e+02,\n",
       "       1.200000e+01, 4.260000e+02, 4.000000e+02, 3.580000e+02,\n",
       "       1.022000e+03, 2.930000e+02, 4.180000e+02, 3.100000e+02,\n",
       "       3.920000e+02, 3.390000e+02, 2.500000e+01, 3.900000e+01,\n",
       "       3.290000e+02, 1.600000e+01, 0.000000e+00, 3.850000e+02,\n",
       "       3.310000e+02, 1.000000e+01, 5.010000e+02, 4.500000e+02,\n",
       "       5.060000e+02, 5.280000e+02, 5.580000e+02, 5.250000e+02,\n",
       "       5.570000e+02, 3.600000e+01, 3.120000e+02, 3.470000e+02,\n",
       "       6.500000e+02, 6.730000e+02, 1.500000e+01, 4.340000e+02,\n",
       "       3.350000e+02, 3.450000e+02, 3.770000e+02, 2.940000e+02,\n",
       "       3.320000e+02, 7.000000e+00, 3.750000e+02, 2.790000e+02,\n",
       "       5.930000e+02, 3.870000e+02, 3.570000e+02, 4.050000e+02,\n",
       "       3.180000e+02, 8.080000e+02, 5.080000e+02, 6.430000e+02,\n",
       "       7.230000e+01, 2.313300e+02, 6.623000e+01, 3.760000e+02,\n",
       "       1.015100e+02, 1.953000e+02, 6.811000e+01, 1.126000e+02,\n",
       "       1.968000e+02, 1.734500e+02, 1.793000e+02, 1.343000e+02,\n",
       "       4.643000e+02, 7.677000e+01, 1.062000e+02, 1.129000e+02,\n",
       "       1.137600e+02, 1.531000e+02, 3.200000e+01, 8.520000e+01,\n",
       "       7.290000e+01, 9.950000e+01, 1.074000e+02, 1.426000e+02,\n",
       "       5.300000e+02, 7.750000e+01, 8.230000e+01, 9.290000e+01,\n",
       "       2.557900e+02, 1.863600e+02, 4.900000e+02, 1.472000e+02,\n",
       "       8.074000e+01, 2.259800e+02, 9.000000e+00, 1.036000e+02,\n",
       "       6.370000e+01, 1.108700e+02, 1.625200e+02, 9.384000e+01,\n",
       "       1.244500e+02, 3.010800e+02, 1.138100e+02, 1.067600e+02,\n",
       "       2.106800e+02, 1.313000e+02, 3.950000e+01, 1.052300e+02,\n",
       "       1.013700e+02, 1.421000e+02, 1.232100e+02, 1.407481e+02,\n",
       "       8.650000e+01, 3.060000e+01, 2.255000e+02, 4.095400e+02,\n",
       "       3.647000e+03, 1.566000e+02, 1.565000e+02, 2.276000e+02,\n",
       "       1.903600e+02, 1.046300e+02, 4.430000e+02, 1.671300e+02,\n",
       "       1.485000e+02, 2.701800e+02, 5.330000e+01, 9.850000e+01,\n",
       "       1.579351e+02, 3.280000e+02, 5.450000e+01, 2.132300e+02,\n",
       "       9.430000e+01, 4.645000e+03, 2.100000e+01, 9.588000e+01,\n",
       "       3.292400e+02, 1.057000e+02, 4.540000e+01, 6.950000e+01,\n",
       "       2.213000e+02, 1.216000e+02, 1.132000e+02, 1.867500e+02,\n",
       "       5.400000e+02, 9.870000e+01, 1.278000e+02, 2.686000e+02,\n",
       "       1.064000e+02, 5.600000e+02, 1.680100e+02, 3.061900e+02,\n",
       "       5.157800e+02, 1.961000e+02, 7.890000e+02, 1.312700e+02,\n",
       "       1.678700e+02, 1.839700e+02, 2.715000e+02, 1.995000e+02,\n",
       "       2.900000e+01, 4.460000e+02, 7.545000e+01, 1.655000e+02,\n",
       "       6.290000e+02, 1.446500e+02, 2.635000e+02, 4.310000e+02,\n",
       "       5.850000e+02, 1.216300e+02, 7.360000e+02, 3.716122e+02,\n",
       "       1.997300e+02, 1.185400e+02, 4.123100e+02, 2.982100e+02,\n",
       "       1.095000e+02, 8.874000e+01, 1.226000e+02, 3.690000e+02,\n",
       "       1.695000e+02, 4.220000e+01, 4.890000e+02, 1.355000e+02,\n",
       "       2.667600e+02, 2.724000e+02, 1.000000e-02, 2.298000e+02,\n",
       "       1.778000e+02, 1.394000e+02, 1.017600e+02, 6.650000e+02,\n",
       "       6.340000e+02, 1.950964e+02, 4.700000e+02, 1.305200e+02,\n",
       "       5.470000e+02, 1.110400e+02, 6.340000e+01, 2.714700e+02,\n",
       "       9.250000e+01, 1.159600e+02, 1.218400e+02, 1.228600e+02,\n",
       "       1.142000e+02, 2.665300e+02, 7.854000e+01, 8.535000e+01,\n",
       "       3.520000e+02, 3.910000e+02, 1.218000e+02, 8.260000e+01,\n",
       "       1.364900e+02, 1.256000e+02, 1.255100e+02, 6.800000e+02,\n",
       "       1.579352e+02, 1.268000e+02, 1.006000e+02, 4.440000e+01,\n",
       "       1.986000e+02, 1.515400e+02, 1.809000e+02, 8.268367e+02,\n",
       "       5.720000e+02, 3.660000e+02, 6.250000e+02, 9.450000e+01,\n",
       "       1.166500e+02, 1.100000e+01, 1.346000e+02, 1.838400e+02,\n",
       "       1.267000e+02, 1.578500e+02, 1.554000e+02, 1.164000e+02,\n",
       "       1.828500e+02, 1.297000e+02, 1.484700e+02, 1.143900e+02,\n",
       "       5.530000e+02, 5.310000e+02, 1.829000e+02, 1.847500e+02,\n",
       "       1.937400e+02, 6.850000e+01, 1.099800e+02, 1.222500e+02,\n",
       "       1.059000e+02, 1.017000e+02, 1.069000e+02, 9.382000e+01,\n",
       "       1.326000e+02, 1.543000e+02, 1.787400e+02, 8.830000e+01,\n",
       "       8.070000e+01, 8.925000e+01, 1.816000e+02, 2.990000e+02,\n",
       "       1.044000e+02, 1.805600e+02, 1.235000e+02, 1.454000e+02,\n",
       "       1.609100e+02, 2.007100e+02, 2.857000e+02, 1.008000e+02,\n",
       "       8.179000e+01, 9.340000e+02, 7.030000e+02, 1.299200e+02,\n",
       "       4.366400e+02, 4.370000e+01, 1.136000e+02, 6.632000e+01,\n",
       "       3.564000e+01, 6.160000e+01, 3.885000e+02, 3.890000e+02,\n",
       "       3.970000e+02, 4.250000e+02, 4.950000e+02, 4.150000e+02,\n",
       "       3.810000e+02, 6.770000e+02, 4.390000e+02, 8.570000e+02,\n",
       "       2.300000e+01, 5.030000e+02, 5.120000e+02, 6.640000e+02,\n",
       "       5.750000e+02, 8.590000e+02, 6.530000e+02, 9.990000e+02,\n",
       "       4.451500e+04, 3.960000e+02, 9.240000e+02, 6.380000e+02,\n",
       "       3.680000e+02, 4.300000e+02, 5.110000e+02, 4.370000e+02,\n",
       "       4.720000e+02, 4.870000e+02, 3.100000e+01, 4.640000e+02,\n",
       "       7.370000e+02, 7.840000e+02, 4.740000e+02, 4.480000e+02,\n",
       "       4.080000e+02, 6.970000e+02, 4.660000e+02, 7.390000e+02,\n",
       "       3.790000e+02, 6.140000e+02, 4.210000e+02, 5.240000e+02,\n",
       "       4.580000e+02, 5.340000e+02, 5.320000e+02, 8.020000e+02,\n",
       "       5.130000e+02, 4.910000e+02, 8.360000e+02, 3.860000e+02,\n",
       "       2.002000e+03, 4.280000e+02, 6.600000e+02, 4.630000e+02,\n",
       "       7.820000e+02, 5.640000e+02, 5.840000e+02, 9.580000e+02,\n",
       "       6.220000e+02, 6.020000e+02, 4.960000e+02, 7.260000e+02,\n",
       "       4.470000e+02, 4.160000e+02, 6.400000e+02, 7.350000e+02,\n",
       "       4.060000e+02, 5.210000e+02, 6.178000e+03, 6.540000e+02,\n",
       "       7.270000e+02, 4.170000e+02, 4.380000e+02, 6.860000e+02,\n",
       "       6.490000e+02])"
      ]
     },
     "execution_count": 65,
     "metadata": {},
     "output_type": "execute_result"
    }
   ],
   "source": [
    "df['BuildingArea'].unique()"
   ]
  },
  {
   "cell_type": "code",
   "execution_count": 64,
   "metadata": {
    "scrolled": false
   },
   "outputs": [
    {
     "data": {
      "text/plain": [
       "array([  nan, 1900., 2014., 2006., 1910., 2009., 1860., 1890., 1925.,\n",
       "       2005., 2010., 1880., 1985., 1970., 2013., 2012., 1920., 1950.,\n",
       "       1998., 1930., 2016., 1965., 1960., 1980., 2011., 2015., 1975.,\n",
       "       1993., 2003., 1995., 1996., 2000., 1990., 1915., 2004., 2008.,\n",
       "       1916., 1962., 1955., 1988., 1953., 1997., 2007., 1967., 1964.,\n",
       "       1889., 1888., 1934., 1966., 1935., 1969., 1940., 1938., 1887.,\n",
       "       1904., 1972., 1978., 1939., 1945., 1927., 1948., 1947., 1968.,\n",
       "       1958., 2017., 1999., 1992., 1961., 1928., 1977., 1919., 1976.,\n",
       "       2001., 1926., 1981., 1986., 1943., 1974., 1956., 1936., 1957.,\n",
       "       1987., 2002., 1952., 1994., 1949., 1905., 1912., 1924., 1885.,\n",
       "       1923., 1918., 1991., 1942., 1973., 2018., 1982., 2106., 1971.,\n",
       "       1963., 1931., 1897., 1906., 1883., 1989., 1983., 1937., 1903.,\n",
       "       1913., 1830., 1895., 1908., 1917., 1902., 1854., 1850., 1898.,\n",
       "       1941., 1951., 1946., 1984., 1901., 1921., 1929., 1959., 1979.,\n",
       "       1892., 1933., 1911., 1886., 1876., 1907., 1881., 1870., 1932.,\n",
       "       1875., 1863., 1893., 1856., 1877., 1894., 1857., 1914., 1868.,\n",
       "       1884., 1872., 1954., 1922., 1896., 1800., 1909., 1196., 1891.,\n",
       "       1862., 1871., 1899., 1820., 1869., 1855., 2019., 1879.])"
      ]
     },
     "execution_count": 64,
     "metadata": {},
     "output_type": "execute_result"
    }
   ],
   "source": [
    "df['YearBuilt'].unique()"
   ]
  },
  {
   "cell_type": "code",
   "execution_count": 96,
   "metadata": {},
   "outputs": [
    {
     "data": {
      "text/plain": [
       "YearBuilt\n",
       "1196      1\n",
       "1800      1\n",
       "1820      1\n",
       "1830      1\n",
       "1850      4\n",
       "       ... \n",
       "2016    130\n",
       "2017     82\n",
       "2018      4\n",
       "2019      1\n",
       "2106      1\n",
       "Name: YearBuilt, Length: 160, dtype: int64"
      ]
     },
     "execution_count": 96,
     "metadata": {},
     "output_type": "execute_result"
    }
   ],
   "source": [
    "df.groupby('YearBuilt')['YearBuilt'].count()"
   ]
  },
  {
   "cell_type": "code",
   "execution_count": 79,
   "metadata": {},
   "outputs": [
    {
     "data": {
      "text/plain": [
       "array([ 126.,  202.,  156., ..., 1098., 1109., 1163.])"
      ]
     },
     "execution_count": 79,
     "metadata": {},
     "output_type": "execute_result"
    }
   ],
   "source": [
    "df['Landsize'].unique()"
   ]
  },
  {
   "cell_type": "code",
   "execution_count": 51,
   "metadata": {
    "scrolled": true
   },
   "outputs": [
    {
     "data": {
      "text/plain": [
       "(array(['SS', 'S', 'VB', 'SP', 'PI', 'SN', 'W', 'PN', 'SA'], dtype=object), 12)"
      ]
     },
     "execution_count": 51,
     "metadata": {},
     "output_type": "execute_result"
    }
   ],
   "source": [
    "df['Method'].unique()"
   ]
  },
  {
   "cell_type": "code",
   "execution_count": 53,
   "metadata": {},
   "outputs": [
    {
     "data": {
      "text/plain": [
       "array([ 2.,  3.,  4.,  6., nan,  1.,  5.,  7.,  0.,  8.,  9., 30., 20.,\n",
       "       10., 16., 12.])"
      ]
     },
     "execution_count": 53,
     "metadata": {},
     "output_type": "execute_result"
    }
   ],
   "source": [
    "df['Bedroom2'].unique()"
   ]
  },
  {
   "cell_type": "code",
   "execution_count": 54,
   "metadata": {},
   "outputs": [
    {
     "data": {
      "text/plain": [
       "array([ 1.,  2., nan,  3.,  7.,  4.,  0.,  5.,  6., 12.,  8.,  9.])"
      ]
     },
     "execution_count": 54,
     "metadata": {},
     "output_type": "execute_result"
    }
   ],
   "source": [
    "df['Bathroom'].unique()"
   ]
  },
  {
   "cell_type": "code",
   "execution_count": 97,
   "metadata": {},
   "outputs": [
    {
     "data": {
      "text/plain": [
       "Bathroom\n",
       "0        46\n",
       "1     19429\n",
       "2     12531\n",
       "3      2468\n",
       "4       272\n",
       "5        82\n",
       "6        16\n",
       "7         4\n",
       "8         2\n",
       "9         1\n",
       "12        1\n",
       "Name: Bathroom, dtype: int64"
      ]
     },
     "execution_count": 97,
     "metadata": {},
     "output_type": "execute_result"
    }
   ],
   "source": [
    "df.groupby('Bathroom')['Bathroom'].count()"
   ]
  },
  {
   "cell_type": "code",
   "execution_count": 55,
   "metadata": {
    "scrolled": true
   },
   "outputs": [
    {
     "data": {
      "text/plain": [
       "array([ 1.,  0.,  2., nan,  6.,  5.,  4.,  3.,  8.,  7., 11., 26.,  9.,\n",
       "       10., 18., 12.])"
      ]
     },
     "execution_count": 55,
     "metadata": {},
     "output_type": "execute_result"
    }
   ],
   "source": [
    "df['Car'].unique()"
   ]
  },
  {
   "cell_type": "code",
   "execution_count": 98,
   "metadata": {},
   "outputs": [
    {
     "data": {
      "text/plain": [
       "Car\n",
       "0      1631\n",
       "1     12554\n",
       "2     17509\n",
       "3      1642\n",
       "4      1161\n",
       "5       154\n",
       "6       140\n",
       "7        25\n",
       "8        22\n",
       "9         3\n",
       "10        6\n",
       "11        2\n",
       "12        1\n",
       "18        1\n",
       "26        1\n",
       "Name: Car, dtype: int64"
      ]
     },
     "execution_count": 98,
     "metadata": {},
     "output_type": "execute_result"
    }
   ],
   "source": [
    "df.groupby('Car')['Car'].count()"
   ]
  },
  {
   "cell_type": "code",
   "execution_count": 63,
   "metadata": {},
   "outputs": [
    {
     "data": {
      "text/plain": [
       "array([ 2.5, 13.5,  3.3,  6.4, 13.8, 11.1,  6.3,  5.9, 11. , 12.2, 10.5,\n",
       "        6.6,  9.7,  9.2, 13. , 13.9, 13.1, 10.8, 11.2, 10.7,  5.2, 11.8,\n",
       "       11.7,  7.8,  9. ,  3.2, 11.4,  8.9,  8.1,  9.3, 13.6,  3.4,  1.6,\n",
       "       10.3,  8.5,  7.7,  8. ,  9.4,  5.8,  3.5,  4.4, 12.1, 13.7, 14.5,\n",
       "        4.6,  7.9, 15. , 12.8,  4.2,  5.6,  7.5,  6.2,  7.4,  8.7,  2.8,\n",
       "        4.1,  6.9, 14.6,  8.4,  2.3,  5.5, 11.5, 14.7,  2.6,  9.9,  3.8,\n",
       "        4.5,  8.8,  2.1,  1.2,  6.1, 12.6, 13.3,  6.5, 14.9,  1.9,  5.1,\n",
       "        7. ,  9.1,  9.5,  1.8,  1.5,  9.8, 12.4, 10.6,  8.2, 10.9, 10.4,\n",
       "       14. , 12.5,  5.3, 12.7,  3.7,  3. ,  5.7, 15.5,  4.3, 10.2, 16.5,\n",
       "       23.2, 17.3, 35.2, 13.4, 25. , 16.1,  4. , 14.8, 10.1, 17.9, 17.5,\n",
       "       16.7,  3.6, 43.4,  6.7, 20.6, 34.7, 23. , 24.7, 21.8, 22.2, 14.3,\n",
       "       25.9,  1.3, 27. , 18. ,  7.2, 36.9, 19.6, 28.8, 24.8, 15.4, 38. ,\n",
       "       45.9, 12.9,  7.3, 20.4, 32.3, 45.2, 21.3, 16. , 18.4, 12.3,  5.4,\n",
       "       25.2, 16.3, 33.8, 31.7, 29.8, 20. , 17.2, 16.2, 21.5, 14.2, 18.8,\n",
       "       34.1, 22.7, 12. ,  2.4, 19.9, 23.8, 23.5, 15.2, 35.4, 20.5,  2.7,\n",
       "       20.8,  5. , 30.4, 15.3,  3.1, 17.6, 25.5, 27.2,  8.6, 31.2,  2. ,\n",
       "        1.4,  0. , 26.5, 47.3,  0.7, 21.1, 23.6,  6.8, 34.9, 18.7, 26. ,\n",
       "       41. , 47.4, 39.8, 27.1, 17.4, 37.5, 33.3, 31.6, 34.6, 44.2, 27.7,\n",
       "       23.3, 29.3, 26.1, 29.9, 28.5, 43.3, 30.6, 39. , 31.4, 20.1, 35.5,\n",
       "       48.1, 16.6, 22.9, 33. ,  nan, 29.5, 32.6])"
      ]
     },
     "execution_count": 63,
     "metadata": {},
     "output_type": "execute_result"
    }
   ],
   "source": [
    "df['Distance'].unique()"
   ]
  },
  {
   "cell_type": "code",
   "execution_count": 56,
   "metadata": {
    "scrolled": true
   },
   "outputs": [
    {
     "data": {
      "text/plain": [
       "array([ 4019.,  3464.,  3280.,  2211.,  5301.,  5132.,  4836.,  6567.,\n",
       "        3052.,  2894.,  4502.,  2952.,  5682.,  7809.,  6795., 10969.,\n",
       "        4605.,  3589., 10579.,  6938., 11918.,  7082.,  4480.,  5678.,\n",
       "        8920.,  3265.,  3106.,  7822.,  2379.,  6923.,  5051.,  3582.,\n",
       "        2954., 11204.,  3445.,  4553.,  9028.,  1651.,  4898.,  8989.,\n",
       "        9264.,  1308.,  2970.,  5825.,  6244.,  3593.,  7570., 10412.,\n",
       "        8870.,  1071.,  2606.,  5454.,  2356., 11308.,  2947.,  2674.,\n",
       "        3145.,  5549.,  1202.,  5629.,  5263., 10331.,  2671.,   394.,\n",
       "        3873.,  4675.,  8801.,  4918., 17496.,  2019.,  2079.,  6232.,\n",
       "        2555.,  5498.,  2291.,  6821., 11364.,  2651.,  3692.,  2309.,\n",
       "        7485.,  8648.,  7717., 14577., 21650., 14949.,  3540.,  2417.,\n",
       "        5943., 14887.,  8400.,  1223., 13240.,  3284.,  3755.,  4217.,\n",
       "        6763.,  5457.,  5420.,  7217.,  2698.,  2329.,  2230.,  6380.,\n",
       "         802.,  4380.,  1369.,  6543.,  1543.,   790.,  5533.,   438.,\n",
       "        1889.,  6786.,  3040.,   588.,  5070.,  6482.,  2890.,  1554.,\n",
       "         851.,  1414.,  1808.,  4442.,  3578.,  5058.,  2185.,   962.,\n",
       "        2403.,  3224.,   821.,  1123.,  4707.,   984.,   389.,  1052.,\n",
       "         608.,   852.,  1119.,   534.,  1008.,  7630.,  1281.,  1130.,\n",
       "        5030.,  3598.,  5366., 17093.,  5713.,  4387.,  9704.,  1390.,\n",
       "        4294., 10175.,  1686.,  4048.,  7719.,  9758.,  2727.,  5837.,\n",
       "        2987., 15510.,  7680., 11925.,  1705.,  2985., 10894.,  8322.,\n",
       "        4258.,  3940., 10999.,  4790.,  7254.,  2546.,  6990.,  2346.,\n",
       "        2259., 10926.,   845., 10788.,  4385., 17055.,  2500.,  7566.,\n",
       "        3376.,  3285., 15321.,  8524.,  4864.,  3728.,  3307.,  3794.,\n",
       "        4794.,  5556., 13830.,   768.,  3656.,   570.,  8459.,  2878.,\n",
       "        8279.,  1624.,  2322.,  4168.,  3600.,  4718.,  6065.,  6162.,\n",
       "        5812.,  1158., 10529.,  6871.,  3891.,  2493.,  3650., 13366.,\n",
       "        7113.,  9376., 11806.,  4973.,  2547.,  5087., 15542.,  7785.,\n",
       "        4407.,   538., 11667.,  5833.,  4497.,  1793.,  8077.,  2756.,\n",
       "        7969.,  7412.,  4054., 14042.,   915., 14092.,  3640., 10160.,\n",
       "        4242.,  5336.,   869.,  6202.,  1690.,  7955.,  5811.,  3296.,\n",
       "        4181.,  4280.,  5424., 16166.,  2474.,  1999.,  2940.,  5262.,\n",
       "        2824.,  2866.,  2867.,  2887.,  1989.,  3906.,  4734.,  2246.,\n",
       "        2898.,  3533.,  2397.,  8280., 17384.,  3619.,  2206.,  2003.,\n",
       "        1442.,   642.,  7392.,  1899.,  2243.,  1588.,  8060.,  5462.,\n",
       "        6464.,  6388.,  1048.,  4654.,  8743.,   902.,  3351.,  1475.,\n",
       "         973.,  2076.,  3789.,  1124.,  2992.,  8256.,  2339.,  4704.,\n",
       "        3532.,  1058.,  1721.,   457.,  3988.,  1863.,  2276.,  1184.,\n",
       "        2949.,  2591.,  1595.,  2871.,   249.,   892.,  1345.,  3553.,\n",
       "        2004.,  6732.,  1328.,  8443.,    nan,  2768.,   794.,   709.,\n",
       "        2332.,  1160.,  3122.,  2126.,   777.,  2170.,  1607.,   849.,\n",
       "         129.,  1490.,  1424.,   335.,    83.,   290.,   938.,  1240.,\n",
       "         271.,   810.,   242.,  4939.,   604.,   121.,   342.])"
      ]
     },
     "execution_count": 56,
     "metadata": {},
     "output_type": "execute_result"
    }
   ],
   "source": [
    "df['Propertycount'].unique()"
   ]
  },
  {
   "cell_type": "code",
   "execution_count": 99,
   "metadata": {},
   "outputs": [
    {
     "data": {
      "text/plain": [
       "Propertycount\n",
       "83         1\n",
       "121        1\n",
       "129        1\n",
       "242        1\n",
       "249        5\n",
       "        ... \n",
       "17055    123\n",
       "17093     47\n",
       "17384     20\n",
       "17496    204\n",
       "21650    844\n",
       "Name: Propertycount, Length: 342, dtype: int64"
      ]
     },
     "execution_count": 99,
     "metadata": {},
     "output_type": "execute_result"
    }
   ],
   "source": [
    "df.groupby('Propertycount')['Propertycount'].count()"
   ]
  },
  {
   "cell_type": "code",
   "execution_count": null,
   "metadata": {},
   "outputs": [],
   "source": [
    "### drponig Duplicates values"
   ]
  },
  {
   "cell_type": "code",
   "execution_count": 6,
   "metadata": {},
   "outputs": [],
   "source": [
    "df.drop_duplicates(inplace=True)"
   ]
  },
  {
   "cell_type": "code",
   "execution_count": 59,
   "metadata": {
    "scrolled": false
   },
   "outputs": [
    {
     "data": {
      "text/plain": [
       "(34856, 21)"
      ]
     },
     "execution_count": 59,
     "metadata": {},
     "output_type": "execute_result"
    }
   ],
   "source": [
    "df.shape    # 1 duplicate value found and drop"
   ]
  },
  {
   "cell_type": "code",
   "execution_count": null,
   "metadata": {},
   "outputs": [],
   "source": [
    "### separating date column into day,month,year"
   ]
  },
  {
   "cell_type": "code",
   "execution_count": 7,
   "metadata": {},
   "outputs": [],
   "source": [
    "df[\"day\"] = pd.to_datetime(df.Date, format=\"%d/%m/%Y\").dt.day\n"
   ]
  },
  {
   "cell_type": "code",
   "execution_count": 8,
   "metadata": {},
   "outputs": [],
   "source": [
    "df[\"month\"] = pd.to_datetime(df.Date, format=\"%d/%m/%Y\").dt.month\n",
    "df[\"year\"] = pd.to_datetime(df.Date, format=\"%d/%m/%Y\").dt.year"
   ]
  },
  {
   "cell_type": "code",
   "execution_count": 9,
   "metadata": {},
   "outputs": [],
   "source": [
    "df.drop(['Date'],axis=1,inplace=True)"
   ]
  },
  {
   "cell_type": "code",
   "execution_count": 108,
   "metadata": {},
   "outputs": [
    {
     "data": {
      "text/html": [
       "<div>\n",
       "<style scoped>\n",
       "    .dataframe tbody tr th:only-of-type {\n",
       "        vertical-align: middle;\n",
       "    }\n",
       "\n",
       "    .dataframe tbody tr th {\n",
       "        vertical-align: top;\n",
       "    }\n",
       "\n",
       "    .dataframe thead th {\n",
       "        text-align: right;\n",
       "    }\n",
       "</style>\n",
       "<table border=\"1\" class=\"dataframe\">\n",
       "  <thead>\n",
       "    <tr style=\"text-align: right;\">\n",
       "      <th></th>\n",
       "      <th>Suburb</th>\n",
       "      <th>Rooms</th>\n",
       "      <th>Type</th>\n",
       "      <th>Price</th>\n",
       "      <th>Method</th>\n",
       "      <th>SellerG</th>\n",
       "      <th>Distance</th>\n",
       "      <th>Postcode</th>\n",
       "      <th>Bathroom</th>\n",
       "      <th>Car</th>\n",
       "      <th>Landsize</th>\n",
       "      <th>BuildingArea</th>\n",
       "      <th>YearBuilt</th>\n",
       "      <th>CouncilArea</th>\n",
       "      <th>Regionname</th>\n",
       "      <th>Propertycount</th>\n",
       "      <th>day</th>\n",
       "      <th>month</th>\n",
       "      <th>year</th>\n",
       "    </tr>\n",
       "  </thead>\n",
       "  <tbody>\n",
       "    <tr>\n",
       "      <th>0</th>\n",
       "      <td>Abbotsford</td>\n",
       "      <td>2</td>\n",
       "      <td>h</td>\n",
       "      <td>759484</td>\n",
       "      <td>SS</td>\n",
       "      <td>Jellis</td>\n",
       "      <td>2.5</td>\n",
       "      <td>3067</td>\n",
       "      <td>1</td>\n",
       "      <td>1</td>\n",
       "      <td>126.0</td>\n",
       "      <td>160.251616</td>\n",
       "      <td>1970</td>\n",
       "      <td>Yarra City Council</td>\n",
       "      <td>Northern Metropolitan</td>\n",
       "      <td>4019</td>\n",
       "      <td>3</td>\n",
       "      <td>9</td>\n",
       "      <td>2016</td>\n",
       "    </tr>\n",
       "  </tbody>\n",
       "</table>\n",
       "</div>"
      ],
      "text/plain": [
       "       Suburb  Rooms Type   Price Method SellerG  Distance  Postcode  \\\n",
       "0  Abbotsford      2    h  759484     SS  Jellis       2.5      3067   \n",
       "\n",
       "   Bathroom  Car  Landsize  BuildingArea  YearBuilt         CouncilArea  \\\n",
       "0         1    1     126.0    160.251616       1970  Yarra City Council   \n",
       "\n",
       "              Regionname  Propertycount  day  month  year  \n",
       "0  Northern Metropolitan           4019    3      9  2016  "
      ]
     },
     "execution_count": 108,
     "metadata": {},
     "output_type": "execute_result"
    }
   ],
   "source": [
    "df.head(1)"
   ]
  },
  {
   "cell_type": "code",
   "execution_count": null,
   "metadata": {},
   "outputs": [],
   "source": [
    "# room and bedroom2 columns are mostly same so we drop bedroom columnb"
   ]
  },
  {
   "cell_type": "code",
   "execution_count": 70,
   "metadata": {},
   "outputs": [
    {
     "data": {
      "text/plain": [
       "[<matplotlib.lines.Line2D at 0x25874f41640>]"
      ]
     },
     "execution_count": 70,
     "metadata": {},
     "output_type": "execute_result"
    },
    {
     "data": {
      "image/png": "[encoded data removed]",
      "text/plain": [
       "<Figure size 432x288 with 1 Axes>"
      ]
     },
     "metadata": {
      "needs_background": "light"
     },
     "output_type": "display_data"
    }
   ],
   "source": [
    "plt.plot(df.Rooms,c='g')\n",
    "plt.plot(df.Bedroom2,c='r')"
   ]
  },
  {
   "cell_type": "code",
   "execution_count": 10,
   "metadata": {},
   "outputs": [],
   "source": [
    "df.drop(columns=['Address','Lattitude','Longtitude','Bedroom2'],axis=1,inplace=True) "
   ]
  },
  {
   "cell_type": "code",
   "execution_count": 72,
   "metadata": {
    "scrolled": true
   },
   "outputs": [
    {
     "data": {
      "text/html": [
       "<div>\n",
       "<style scoped>\n",
       "    .dataframe tbody tr th:only-of-type {\n",
       "        vertical-align: middle;\n",
       "    }\n",
       "\n",
       "    .dataframe tbody tr th {\n",
       "        vertical-align: top;\n",
       "    }\n",
       "\n",
       "    .dataframe thead th {\n",
       "        text-align: right;\n",
       "    }\n",
       "</style>\n",
       "<table border=\"1\" class=\"dataframe\">\n",
       "  <thead>\n",
       "    <tr style=\"text-align: right;\">\n",
       "      <th></th>\n",
       "      <th>Suburb</th>\n",
       "      <th>Rooms</th>\n",
       "      <th>Type</th>\n",
       "      <th>Price</th>\n",
       "      <th>Method</th>\n",
       "      <th>SellerG</th>\n",
       "      <th>Date</th>\n",
       "      <th>Distance</th>\n",
       "      <th>Postcode</th>\n",
       "      <th>Bathroom</th>\n",
       "      <th>Car</th>\n",
       "      <th>Landsize</th>\n",
       "      <th>BuildingArea</th>\n",
       "      <th>YearBuilt</th>\n",
       "      <th>CouncilArea</th>\n",
       "      <th>Regionname</th>\n",
       "      <th>Propertycount</th>\n",
       "    </tr>\n",
       "  </thead>\n",
       "  <tbody>\n",
       "    <tr>\n",
       "      <th>0</th>\n",
       "      <td>Abbotsford</td>\n",
       "      <td>2</td>\n",
       "      <td>h</td>\n",
       "      <td>NaN</td>\n",
       "      <td>SS</td>\n",
       "      <td>Jellis</td>\n",
       "      <td>03/09/2016</td>\n",
       "      <td>2.5</td>\n",
       "      <td>3067.0</td>\n",
       "      <td>1.0</td>\n",
       "      <td>1.0</td>\n",
       "      <td>126.0</td>\n",
       "      <td>NaN</td>\n",
       "      <td>NaN</td>\n",
       "      <td>Yarra City Council</td>\n",
       "      <td>Northern Metropolitan</td>\n",
       "      <td>4019.0</td>\n",
       "    </tr>\n",
       "  </tbody>\n",
       "</table>\n",
       "</div>"
      ],
      "text/plain": [
       "       Suburb  Rooms Type  Price Method SellerG        Date  Distance  \\\n",
       "0  Abbotsford      2    h    NaN     SS  Jellis  03/09/2016       2.5   \n",
       "\n",
       "   Postcode  Bathroom  Car  Landsize  BuildingArea  YearBuilt  \\\n",
       "0    3067.0       1.0  1.0     126.0           NaN        NaN   \n",
       "\n",
       "          CouncilArea             Regionname  Propertycount  \n",
       "0  Yarra City Council  Northern Metropolitan         4019.0  "
      ]
     },
     "execution_count": 72,
     "metadata": {},
     "output_type": "execute_result"
    }
   ],
   "source": [
    "df.head(1)"
   ]
  },
  {
   "cell_type": "code",
   "execution_count": 109,
   "metadata": {},
   "outputs": [
    {
     "data": {
      "text/plain": [
       "(34852, 19)"
      ]
     },
     "execution_count": 109,
     "metadata": {},
     "output_type": "execute_result"
    }
   ],
   "source": [
    "df.shape"
   ]
  },
  {
   "cell_type": "code",
   "execution_count": 110,
   "metadata": {
    "scrolled": true
   },
   "outputs": [
    {
     "data": {
      "text/plain": [
       "Index(['Suburb', 'Rooms', 'Type', 'Price', 'Method', 'SellerG', 'Distance',\n",
       "       'Postcode', 'Bathroom', 'Car', 'Landsize', 'BuildingArea', 'YearBuilt',\n",
       "       'CouncilArea', 'Regionname', 'Propertycount', 'day', 'month', 'year'],\n",
       "      dtype='object')"
      ]
     },
     "execution_count": 110,
     "metadata": {},
     "output_type": "execute_result"
    }
   ],
   "source": [
    "df.columns"
   ]
  },
  {
   "cell_type": "code",
   "execution_count": null,
   "metadata": {},
   "outputs": [],
   "source": [
    "### filling null values"
   ]
  },
  {
   "cell_type": "code",
   "execution_count": 11,
   "metadata": {},
   "outputs": [],
   "source": [
    "df['BuildingArea']=df['BuildingArea'].fillna(df['BuildingArea'].mean())"
   ]
  },
  {
   "cell_type": "code",
   "execution_count": 12,
   "metadata": {},
   "outputs": [],
   "source": [
    "df['YearBuilt']=df['YearBuilt'].fillna(df['YearBuilt'].mode()[0])"
   ]
  },
  {
   "cell_type": "code",
   "execution_count": 13,
   "metadata": {},
   "outputs": [],
   "source": [
    "df['Price'].fillna(df.groupby('Rooms')['Price'].transform('mean'),inplace=True)\n",
    "df['Car'].fillna(round(df.groupby('Rooms')['Car'].transform('mean')),inplace=True)\n",
    "df['Bathroom'].fillna(round(df.groupby('Rooms')['Bathroom'].transform('mean')),inplace=True)\n",
    "df['Landsize'].fillna(round(df.groupby('Rooms')['Landsize'].transform('mean')),inplace=True)"
   ]
  },
  {
   "cell_type": "code",
   "execution_count": 14,
   "metadata": {},
   "outputs": [],
   "source": [
    "df.dropna(inplace=True)"
   ]
  },
  {
   "cell_type": "code",
   "execution_count": 15,
   "metadata": {},
   "outputs": [
    {
     "data": {
      "text/plain": [
       "Suburb           0\n",
       "Rooms            0\n",
       "Type             0\n",
       "Price            0\n",
       "Method           0\n",
       "SellerG          0\n",
       "Distance         0\n",
       "Postcode         0\n",
       "Bathroom         0\n",
       "Car              0\n",
       "Landsize         0\n",
       "BuildingArea     0\n",
       "YearBuilt        0\n",
       "CouncilArea      0\n",
       "Regionname       0\n",
       "Propertycount    0\n",
       "day              0\n",
       "month            0\n",
       "year             0\n",
       "dtype: int64"
      ]
     },
     "execution_count": 15,
     "metadata": {},
     "output_type": "execute_result"
    }
   ],
   "source": [
    "df.isnull().sum()"
   ]
  },
  {
   "cell_type": "code",
   "execution_count": null,
   "metadata": {},
   "outputs": [],
   "source": [
    "### changing data types (float to int)"
   ]
  },
  {
   "cell_type": "code",
   "execution_count": 16,
   "metadata": {},
   "outputs": [],
   "source": [
    "df['Price'] = df['Price'].astype(float).astype(int)\n",
    "df['Postcode'] = df['Postcode'].astype(float).astype(int)\n",
    "df['Bathroom'] = df['Bathroom'].astype(float).astype(int)\n",
    "df['Car'] = df['Car'].astype(float).astype(int)\n",
    "df['YearBuilt'] =  df['YearBuilt'].astype(float).astype(int)\n",
    "df['Propertycount'] = df['Propertycount'].astype(float).astype(int)"
   ]
  },
  {
   "cell_type": "code",
   "execution_count": 90,
   "metadata": {
    "scrolled": false
   },
   "outputs": [
    {
     "name": "stdout",
     "output_type": "stream",
     "text": [
      "<class 'pandas.core.frame.DataFrame'>\n",
      "Int64Index: 34852 entries, 0 to 34856\n",
      "Data columns (total 17 columns):\n",
      " #   Column         Non-Null Count  Dtype  \n",
      "---  ------         --------------  -----  \n",
      " 0   Suburb         34852 non-null  object \n",
      " 1   Rooms          34852 non-null  int64  \n",
      " 2   Type           34852 non-null  object \n",
      " 3   Price          34852 non-null  int32  \n",
      " 4   Method         34852 non-null  object \n",
      " 5   SellerG        34852 non-null  object \n",
      " 6   Date           34852 non-null  object \n",
      " 7   Distance       34852 non-null  float64\n",
      " 8   Postcode       34852 non-null  int32  \n",
      " 9   Bathroom       34852 non-null  int32  \n",
      " 10  Car            34852 non-null  int32  \n",
      " 11  Landsize       34852 non-null  float64\n",
      " 12  BuildingArea   34852 non-null  float64\n",
      " 13  YearBuilt      34852 non-null  int32  \n",
      " 14  CouncilArea    34852 non-null  object \n",
      " 15  Regionname     34852 non-null  object \n",
      " 16  Propertycount  34852 non-null  int32  \n",
      "dtypes: float64(3), int32(6), int64(1), object(7)\n",
      "memory usage: 4.0+ MB\n"
     ]
    }
   ],
   "source": [
    "df.info()"
   ]
  },
  {
   "cell_type": "markdown",
   "metadata": {},
   "source": [
    "# Exploratory Data Analysis (EDA)"
   ]
  },
  {
   "cell_type": "code",
   "execution_count": 11,
   "metadata": {},
   "outputs": [
    {
     "data": {
      "text/plain": [
       "<matplotlib.axes._subplots.AxesSubplot at 0x20710814070>"
      ]
     },
     "execution_count": 11,
     "metadata": {},
     "output_type": "execute_result"
    },
    {
     "data": {
      "image/png": "[encoded data removed]",
      "text/plain": [
       "<Figure size 432x288 with 1 Axes>"
      ]
     },
     "metadata": {},
     "output_type": "display_data"
    }
   ],
   "source": [
    "sns.distplot(df['Price'])"
   ]
  },
  {
   "cell_type": "code",
   "execution_count": 12,
   "metadata": {},
   "outputs": [
    {
     "data": {
      "text/plain": [
       "<matplotlib.axes._subplots.AxesSubplot at 0x20711fbd2e0>"
      ]
     },
     "execution_count": 12,
     "metadata": {},
     "output_type": "execute_result"
    },
    {
     "data": {
      "image/png": "[encoded data removed]",
      "text/plain": [
       "<Figure size 432x288 with 2 Axes>"
      ]
     },
     "metadata": {},
     "output_type": "display_data"
    }
   ],
   "source": [
    "sns.heatmap(df.corr(), annot=True)"
   ]
  },
  {
   "cell_type": "code",
   "execution_count": 111,
   "metadata": {
    "scrolled": true
   },
   "outputs": [
    {
     "data": {
      "text/plain": [
       "[<matplotlib.lines.Line2D at 0x2587c7557f0>]"
      ]
     },
     "execution_count": 111,
     "metadata": {},
     "output_type": "execute_result"
    },
    {
     "data": {
      "image/png": "[encoded data removed]",
      "text/plain": [
       "<Figure size 432x288 with 1 Axes>"
      ]
     },
     "metadata": {
      "needs_background": "light"
     },
     "output_type": "display_data"
    }
   ],
   "source": [
    "plt.plot(df.Rooms)"
   ]
  },
  {
   "cell_type": "code",
   "execution_count": 112,
   "metadata": {},
   "outputs": [
    {
     "data": {
      "text/plain": [
       "array([[<matplotlib.axes._subplots.AxesSubplot object at 0x000002587C7AFA30>,\n",
       "        <matplotlib.axes._subplots.AxesSubplot object at 0x000002587C491EE0>,\n",
       "        <matplotlib.axes._subplots.AxesSubplot object at 0x000002587C4743A0>,\n",
       "        <matplotlib.axes._subplots.AxesSubplot object at 0x000002587C438850>],\n",
       "       [<matplotlib.axes._subplots.AxesSubplot object at 0x000002587C833CA0>,\n",
       "        <matplotlib.axes._subplots.AxesSubplot object at 0x000002587C8610D0>,\n",
       "        <matplotlib.axes._subplots.AxesSubplot object at 0x000002587C8611C0>,\n",
       "        <matplotlib.axes._subplots.AxesSubplot object at 0x000002587C6E3670>],\n",
       "       [<matplotlib.axes._subplots.AxesSubplot object at 0x000002587C88DEB0>,\n",
       "        <matplotlib.axes._subplots.AxesSubplot object at 0x000002587C8C0340>,\n",
       "        <matplotlib.axes._subplots.AxesSubplot object at 0x000002587C8E67C0>,\n",
       "        <matplotlib.axes._subplots.AxesSubplot object at 0x000002587C90CC10>],\n",
       "       [<matplotlib.axes._subplots.AxesSubplot object at 0x000002587C933100>,\n",
       "        <matplotlib.axes._subplots.AxesSubplot object at 0x000002587C964460>,\n",
       "        <matplotlib.axes._subplots.AxesSubplot object at 0x000002587DE80A60>,\n",
       "        <matplotlib.axes._subplots.AxesSubplot object at 0x000002587DEA9EB0>]],\n",
       "      dtype=object)"
      ]
     },
     "execution_count": 112,
     "metadata": {},
     "output_type": "execute_result"
    },
    {
     "data": {
      "image/png": "[encoded data removed]",
      "text/plain": [
       "<Figure size 1440x2160 with 16 Axes>"
      ]
     },
     "metadata": {
      "needs_background": "light"
     },
     "output_type": "display_data"
    }
   ],
   "source": [
    "df.hist(figsize=(20,30))"
   ]
  },
  {
   "cell_type": "code",
   "execution_count": 116,
   "metadata": {
    "scrolled": true
   },
   "outputs": [
    {
     "data": {
      "text/plain": [
       "array([[<matplotlib.axes._subplots.AxesSubplot object at 0x000002587DF17460>]],\n",
       "      dtype=object)"
      ]
     },
     "execution_count": 116,
     "metadata": {},
     "output_type": "execute_result"
    },
    {
     "data": {
      "image/png": "[encoded data removed]",
      "text/plain": [
       "<Figure size 432x288 with 1 Axes>"
      ]
     },
     "metadata": {
      "needs_background": "light"
     },
     "output_type": "display_data"
    }
   ],
   "source": [
    "df.hist(column='Price',bins=6,color='orange')"
   ]
  },
  {
   "cell_type": "code",
   "execution_count": 4,
   "metadata": {},
   "outputs": [
    {
     "ename": "NameError",
     "evalue": "name 'df' is not defined",
     "output_type": "error",
     "traceback": [
      "\u001b[1;31m---------------------------------------------------------------------------\u001b[0m",
      "\u001b[1;31mNameError\u001b[0m                                 Traceback (most recent call last)",
      "\u001b[1;32m<ipython-input-4-6839de3ab14d>\u001b[0m in \u001b[0;36m<module>\u001b[1;34m\u001b[0m\n\u001b[1;32m----> 1\u001b[1;33m \u001b[0msns\u001b[0m\u001b[1;33m.\u001b[0m\u001b[0mbarplot\u001b[0m\u001b[1;33m(\u001b[0m\u001b[0mdf\u001b[0m\u001b[1;33m.\u001b[0m\u001b[0mRooms\u001b[0m\u001b[1;33m,\u001b[0m\u001b[0mdf\u001b[0m\u001b[1;33m.\u001b[0m\u001b[0mPrice\u001b[0m\u001b[1;33m)\u001b[0m\u001b[1;33m\u001b[0m\u001b[1;33m\u001b[0m\u001b[0m\n\u001b[0m",
      "\u001b[1;31mNameError\u001b[0m: name 'df' is not defined"
     ]
    }
   ],
   "source": [
    "sns.barplot(df.Rooms,df.Price)"
   ]
  },
  {
   "cell_type": "code",
   "execution_count": 7,
   "metadata": {},
   "outputs": [
    {
     "data": {
      "text/plain": [
       "<matplotlib.axes._subplots.AxesSubplot at 0x2070569bd00>"
      ]
     },
     "execution_count": 7,
     "metadata": {},
     "output_type": "execute_result"
    },
    {
     "data": {
      "image/png": "[encoded data removed]",
      "text/plain": [
       "<Figure size 432x288 with 1 Axes>"
      ]
     },
     "metadata": {},
     "output_type": "display_data"
    }
   ],
   "source": [
    "sns.countplot(x=\"Bathroom\", data=df)"
   ]
  },
  {
   "cell_type": "code",
   "execution_count": 8,
   "metadata": {
    "scrolled": true
   },
   "outputs": [
    {
     "data": {
      "text/plain": [
       "<matplotlib.axes._subplots.AxesSubplot at 0x2070637c580>"
      ]
     },
     "execution_count": 8,
     "metadata": {},
     "output_type": "execute_result"
    },
    {
     "data": {
      "image/png": "[encoded data removed]",
      "text/plain": [
       "<Figure size 432x288 with 1 Axes>"
      ]
     },
     "metadata": {},
     "output_type": "display_data"
    }
   ],
   "source": [
    "sns.countplot(x=\"Rooms\", data=df)"
   ]
  },
  {
   "cell_type": "code",
   "execution_count": 130,
   "metadata": {
    "scrolled": true
   },
   "outputs": [
    {
     "data": {
      "text/plain": [
       "(array([3.1694e+04, 2.9570e+03, 1.6500e+02, 3.1000e+01, 3.0000e+00,\n",
       "        0.0000e+00, 1.0000e+00, 0.0000e+00, 0.0000e+00, 1.0000e+00]),\n",
       " array([ 0. ,  2.6,  5.2,  7.8, 10.4, 13. , 15.6, 18.2, 20.8, 23.4, 26. ]),\n",
       " <a list of 10 Patch objects>)"
      ]
     },
     "execution_count": 130,
     "metadata": {},
     "output_type": "execute_result"
    },
    {
     "data": {
      "image/png": "[encoded data removed]",
      "text/plain": [
       "<Figure size 432x288 with 1 Axes>"
      ]
     },
     "metadata": {
      "needs_background": "light"
     },
     "output_type": "display_data"
    }
   ],
   "source": [
    "plt.hist(df.Car)"
   ]
  },
  {
   "cell_type": "code",
   "execution_count": 143,
   "metadata": {
    "scrolled": true
   },
   "outputs": [
    {
     "data": {
      "text/plain": [
       "<matplotlib.axes._subplots.AxesSubplot at 0x214407fef10>"
      ]
     },
     "execution_count": 143,
     "metadata": {},
     "output_type": "execute_result"
    },
    {
     "data": {
      "image/png": "[encoded data removed]",
      "text/plain": [
       "<Figure size 576x576 with 1 Axes>"
      ]
     },
     "metadata": {
      "needs_background": "light"
     },
     "output_type": "display_data"
    }
   ],
   "source": [
    "df.groupby('Rooms')['Price'].mean().plot(figsize=())"
   ]
  },
  {
   "cell_type": "code",
   "execution_count": 22,
   "metadata": {},
   "outputs": [],
   "source": [
    " df.to_csv('melbourne_housing_clean_data.csv' , index=True)\n"
   ]
  },
  {
   "cell_type": "code",
   "execution_count": 106,
   "metadata": {},
   "outputs": [],
   "source": [
    "df.drop(columns=['BuildingArea','YearBuilt','day','month','year'],axis=1,inplace=True) "
   ]
  },
  {
   "cell_type": "code",
   "execution_count": 107,
   "metadata": {},
   "outputs": [
    {
     "data": {
      "text/html": [
       "<div>\n",
       "<style scoped>\n",
       "    .dataframe tbody tr th:only-of-type {\n",
       "        vertical-align: middle;\n",
       "    }\n",
       "\n",
       "    .dataframe tbody tr th {\n",
       "        vertical-align: top;\n",
       "    }\n",
       "\n",
       "    .dataframe thead th {\n",
       "        text-align: right;\n",
       "    }\n",
       "</style>\n",
       "<table border=\"1\" class=\"dataframe\">\n",
       "  <thead>\n",
       "    <tr style=\"text-align: right;\">\n",
       "      <th></th>\n",
       "      <th>Rooms</th>\n",
       "      <th>Price</th>\n",
       "      <th>Distance</th>\n",
       "      <th>Postcode</th>\n",
       "      <th>Bathroom</th>\n",
       "      <th>Car</th>\n",
       "      <th>Landsize</th>\n",
       "      <th>Propertycount</th>\n",
       "      <th>Suburb_Abbotsford</th>\n",
       "      <th>Suburb_Aberfeldie</th>\n",
       "      <th>...</th>\n",
       "      <th>CouncilArea_Yarra City Council</th>\n",
       "      <th>CouncilArea_Yarra Ranges Shire Council</th>\n",
       "      <th>Regionname_Eastern Metropolitan</th>\n",
       "      <th>Regionname_Eastern Victoria</th>\n",
       "      <th>Regionname_Northern Metropolitan</th>\n",
       "      <th>Regionname_Northern Victoria</th>\n",
       "      <th>Regionname_South-Eastern Metropolitan</th>\n",
       "      <th>Regionname_Southern Metropolitan</th>\n",
       "      <th>Regionname_Western Metropolitan</th>\n",
       "      <th>Regionname_Western Victoria</th>\n",
       "    </tr>\n",
       "  </thead>\n",
       "  <tbody>\n",
       "    <tr>\n",
       "      <th>0</th>\n",
       "      <td>2</td>\n",
       "      <td>759484</td>\n",
       "      <td>2.5</td>\n",
       "      <td>3067</td>\n",
       "      <td>1</td>\n",
       "      <td>1</td>\n",
       "      <td>126.0</td>\n",
       "      <td>4019</td>\n",
       "      <td>1</td>\n",
       "      <td>0</td>\n",
       "      <td>...</td>\n",
       "      <td>1</td>\n",
       "      <td>0</td>\n",
       "      <td>0</td>\n",
       "      <td>0</td>\n",
       "      <td>1</td>\n",
       "      <td>0</td>\n",
       "      <td>0</td>\n",
       "      <td>0</td>\n",
       "      <td>0</td>\n",
       "      <td>0</td>\n",
       "    </tr>\n",
       "    <tr>\n",
       "      <th>1</th>\n",
       "      <td>2</td>\n",
       "      <td>1480000</td>\n",
       "      <td>2.5</td>\n",
       "      <td>3067</td>\n",
       "      <td>1</td>\n",
       "      <td>1</td>\n",
       "      <td>202.0</td>\n",
       "      <td>4019</td>\n",
       "      <td>1</td>\n",
       "      <td>0</td>\n",
       "      <td>...</td>\n",
       "      <td>1</td>\n",
       "      <td>0</td>\n",
       "      <td>0</td>\n",
       "      <td>0</td>\n",
       "      <td>1</td>\n",
       "      <td>0</td>\n",
       "      <td>0</td>\n",
       "      <td>0</td>\n",
       "      <td>0</td>\n",
       "      <td>0</td>\n",
       "    </tr>\n",
       "    <tr>\n",
       "      <th>2</th>\n",
       "      <td>2</td>\n",
       "      <td>1035000</td>\n",
       "      <td>2.5</td>\n",
       "      <td>3067</td>\n",
       "      <td>1</td>\n",
       "      <td>0</td>\n",
       "      <td>156.0</td>\n",
       "      <td>4019</td>\n",
       "      <td>1</td>\n",
       "      <td>0</td>\n",
       "      <td>...</td>\n",
       "      <td>1</td>\n",
       "      <td>0</td>\n",
       "      <td>0</td>\n",
       "      <td>0</td>\n",
       "      <td>1</td>\n",
       "      <td>0</td>\n",
       "      <td>0</td>\n",
       "      <td>0</td>\n",
       "      <td>0</td>\n",
       "      <td>0</td>\n",
       "    </tr>\n",
       "    <tr>\n",
       "      <th>3</th>\n",
       "      <td>3</td>\n",
       "      <td>1028499</td>\n",
       "      <td>2.5</td>\n",
       "      <td>3067</td>\n",
       "      <td>2</td>\n",
       "      <td>1</td>\n",
       "      <td>0.0</td>\n",
       "      <td>4019</td>\n",
       "      <td>1</td>\n",
       "      <td>0</td>\n",
       "      <td>...</td>\n",
       "      <td>1</td>\n",
       "      <td>0</td>\n",
       "      <td>0</td>\n",
       "      <td>0</td>\n",
       "      <td>1</td>\n",
       "      <td>0</td>\n",
       "      <td>0</td>\n",
       "      <td>0</td>\n",
       "      <td>0</td>\n",
       "      <td>0</td>\n",
       "    </tr>\n",
       "    <tr>\n",
       "      <th>4</th>\n",
       "      <td>3</td>\n",
       "      <td>1465000</td>\n",
       "      <td>2.5</td>\n",
       "      <td>3067</td>\n",
       "      <td>2</td>\n",
       "      <td>0</td>\n",
       "      <td>134.0</td>\n",
       "      <td>4019</td>\n",
       "      <td>1</td>\n",
       "      <td>0</td>\n",
       "      <td>...</td>\n",
       "      <td>1</td>\n",
       "      <td>0</td>\n",
       "      <td>0</td>\n",
       "      <td>0</td>\n",
       "      <td>1</td>\n",
       "      <td>0</td>\n",
       "      <td>0</td>\n",
       "      <td>0</td>\n",
       "      <td>0</td>\n",
       "      <td>0</td>\n",
       "    </tr>\n",
       "  </tbody>\n",
       "</table>\n",
       "<p>5 rows × 799 columns</p>\n",
       "</div>"
      ],
      "text/plain": [
       "   Rooms    Price  Distance  Postcode  Bathroom  Car  Landsize  Propertycount  \\\n",
       "0      2   759484       2.5      3067         1    1     126.0           4019   \n",
       "1      2  1480000       2.5      3067         1    1     202.0           4019   \n",
       "2      2  1035000       2.5      3067         1    0     156.0           4019   \n",
       "3      3  1028499       2.5      3067         2    1       0.0           4019   \n",
       "4      3  1465000       2.5      3067         2    0     134.0           4019   \n",
       "\n",
       "   Suburb_Abbotsford  Suburb_Aberfeldie  ...  CouncilArea_Yarra City Council  \\\n",
       "0                  1                  0  ...                               1   \n",
       "1                  1                  0  ...                               1   \n",
       "2                  1                  0  ...                               1   \n",
       "3                  1                  0  ...                               1   \n",
       "4                  1                  0  ...                               1   \n",
       "\n",
       "   CouncilArea_Yarra Ranges Shire Council  Regionname_Eastern Metropolitan  \\\n",
       "0                                       0                                0   \n",
       "1                                       0                                0   \n",
       "2                                       0                                0   \n",
       "3                                       0                                0   \n",
       "4                                       0                                0   \n",
       "\n",
       "   Regionname_Eastern Victoria  Regionname_Northern Metropolitan  \\\n",
       "0                            0                                 1   \n",
       "1                            0                                 1   \n",
       "2                            0                                 1   \n",
       "3                            0                                 1   \n",
       "4                            0                                 1   \n",
       "\n",
       "   Regionname_Northern Victoria  Regionname_South-Eastern Metropolitan  \\\n",
       "0                             0                                      0   \n",
       "1                             0                                      0   \n",
       "2                             0                                      0   \n",
       "3                             0                                      0   \n",
       "4                             0                                      0   \n",
       "\n",
       "   Regionname_Southern Metropolitan  Regionname_Western Metropolitan  \\\n",
       "0                                 0                                0   \n",
       "1                                 0                                0   \n",
       "2                                 0                                0   \n",
       "3                                 0                                0   \n",
       "4                                 0                                0   \n",
       "\n",
       "   Regionname_Western Victoria  \n",
       "0                            0  \n",
       "1                            0  \n",
       "2                            0  \n",
       "3                            0  \n",
       "4                            0  \n",
       "\n",
       "[5 rows x 799 columns]"
      ]
     },
     "execution_count": 107,
     "metadata": {},
     "output_type": "execute_result"
    }
   ],
   "source": [
    "df.head()"
   ]
  },
  {
   "cell_type": "code",
   "execution_count": 108,
   "metadata": {},
   "outputs": [],
   "source": [
    "df = pd.get_dummies(df)"
   ]
  },
  {
   "cell_type": "code",
   "execution_count": 109,
   "metadata": {},
   "outputs": [
    {
     "data": {
      "text/html": [
       "<div>\n",
       "<style scoped>\n",
       "    .dataframe tbody tr th:only-of-type {\n",
       "        vertical-align: middle;\n",
       "    }\n",
       "\n",
       "    .dataframe tbody tr th {\n",
       "        vertical-align: top;\n",
       "    }\n",
       "\n",
       "    .dataframe thead th {\n",
       "        text-align: right;\n",
       "    }\n",
       "</style>\n",
       "<table border=\"1\" class=\"dataframe\">\n",
       "  <thead>\n",
       "    <tr style=\"text-align: right;\">\n",
       "      <th></th>\n",
       "      <th>Rooms</th>\n",
       "      <th>Price</th>\n",
       "      <th>Distance</th>\n",
       "      <th>Postcode</th>\n",
       "      <th>Bathroom</th>\n",
       "      <th>Car</th>\n",
       "      <th>Landsize</th>\n",
       "      <th>Propertycount</th>\n",
       "      <th>Suburb_Abbotsford</th>\n",
       "      <th>Suburb_Aberfeldie</th>\n",
       "      <th>...</th>\n",
       "      <th>CouncilArea_Yarra City Council</th>\n",
       "      <th>CouncilArea_Yarra Ranges Shire Council</th>\n",
       "      <th>Regionname_Eastern Metropolitan</th>\n",
       "      <th>Regionname_Eastern Victoria</th>\n",
       "      <th>Regionname_Northern Metropolitan</th>\n",
       "      <th>Regionname_Northern Victoria</th>\n",
       "      <th>Regionname_South-Eastern Metropolitan</th>\n",
       "      <th>Regionname_Southern Metropolitan</th>\n",
       "      <th>Regionname_Western Metropolitan</th>\n",
       "      <th>Regionname_Western Victoria</th>\n",
       "    </tr>\n",
       "  </thead>\n",
       "  <tbody>\n",
       "    <tr>\n",
       "      <th>0</th>\n",
       "      <td>2</td>\n",
       "      <td>759484</td>\n",
       "      <td>2.5</td>\n",
       "      <td>3067</td>\n",
       "      <td>1</td>\n",
       "      <td>1</td>\n",
       "      <td>126.0</td>\n",
       "      <td>4019</td>\n",
       "      <td>1</td>\n",
       "      <td>0</td>\n",
       "      <td>...</td>\n",
       "      <td>1</td>\n",
       "      <td>0</td>\n",
       "      <td>0</td>\n",
       "      <td>0</td>\n",
       "      <td>1</td>\n",
       "      <td>0</td>\n",
       "      <td>0</td>\n",
       "      <td>0</td>\n",
       "      <td>0</td>\n",
       "      <td>0</td>\n",
       "    </tr>\n",
       "    <tr>\n",
       "      <th>1</th>\n",
       "      <td>2</td>\n",
       "      <td>1480000</td>\n",
       "      <td>2.5</td>\n",
       "      <td>3067</td>\n",
       "      <td>1</td>\n",
       "      <td>1</td>\n",
       "      <td>202.0</td>\n",
       "      <td>4019</td>\n",
       "      <td>1</td>\n",
       "      <td>0</td>\n",
       "      <td>...</td>\n",
       "      <td>1</td>\n",
       "      <td>0</td>\n",
       "      <td>0</td>\n",
       "      <td>0</td>\n",
       "      <td>1</td>\n",
       "      <td>0</td>\n",
       "      <td>0</td>\n",
       "      <td>0</td>\n",
       "      <td>0</td>\n",
       "      <td>0</td>\n",
       "    </tr>\n",
       "    <tr>\n",
       "      <th>2</th>\n",
       "      <td>2</td>\n",
       "      <td>1035000</td>\n",
       "      <td>2.5</td>\n",
       "      <td>3067</td>\n",
       "      <td>1</td>\n",
       "      <td>0</td>\n",
       "      <td>156.0</td>\n",
       "      <td>4019</td>\n",
       "      <td>1</td>\n",
       "      <td>0</td>\n",
       "      <td>...</td>\n",
       "      <td>1</td>\n",
       "      <td>0</td>\n",
       "      <td>0</td>\n",
       "      <td>0</td>\n",
       "      <td>1</td>\n",
       "      <td>0</td>\n",
       "      <td>0</td>\n",
       "      <td>0</td>\n",
       "      <td>0</td>\n",
       "      <td>0</td>\n",
       "    </tr>\n",
       "    <tr>\n",
       "      <th>3</th>\n",
       "      <td>3</td>\n",
       "      <td>1028499</td>\n",
       "      <td>2.5</td>\n",
       "      <td>3067</td>\n",
       "      <td>2</td>\n",
       "      <td>1</td>\n",
       "      <td>0.0</td>\n",
       "      <td>4019</td>\n",
       "      <td>1</td>\n",
       "      <td>0</td>\n",
       "      <td>...</td>\n",
       "      <td>1</td>\n",
       "      <td>0</td>\n",
       "      <td>0</td>\n",
       "      <td>0</td>\n",
       "      <td>1</td>\n",
       "      <td>0</td>\n",
       "      <td>0</td>\n",
       "      <td>0</td>\n",
       "      <td>0</td>\n",
       "      <td>0</td>\n",
       "    </tr>\n",
       "    <tr>\n",
       "      <th>4</th>\n",
       "      <td>3</td>\n",
       "      <td>1465000</td>\n",
       "      <td>2.5</td>\n",
       "      <td>3067</td>\n",
       "      <td>2</td>\n",
       "      <td>0</td>\n",
       "      <td>134.0</td>\n",
       "      <td>4019</td>\n",
       "      <td>1</td>\n",
       "      <td>0</td>\n",
       "      <td>...</td>\n",
       "      <td>1</td>\n",
       "      <td>0</td>\n",
       "      <td>0</td>\n",
       "      <td>0</td>\n",
       "      <td>1</td>\n",
       "      <td>0</td>\n",
       "      <td>0</td>\n",
       "      <td>0</td>\n",
       "      <td>0</td>\n",
       "      <td>0</td>\n",
       "    </tr>\n",
       "  </tbody>\n",
       "</table>\n",
       "<p>5 rows × 799 columns</p>\n",
       "</div>"
      ],
      "text/plain": [
       "   Rooms    Price  Distance  Postcode  Bathroom  Car  Landsize  Propertycount  \\\n",
       "0      2   759484       2.5      3067         1    1     126.0           4019   \n",
       "1      2  1480000       2.5      3067         1    1     202.0           4019   \n",
       "2      2  1035000       2.5      3067         1    0     156.0           4019   \n",
       "3      3  1028499       2.5      3067         2    1       0.0           4019   \n",
       "4      3  1465000       2.5      3067         2    0     134.0           4019   \n",
       "\n",
       "   Suburb_Abbotsford  Suburb_Aberfeldie  ...  CouncilArea_Yarra City Council  \\\n",
       "0                  1                  0  ...                               1   \n",
       "1                  1                  0  ...                               1   \n",
       "2                  1                  0  ...                               1   \n",
       "3                  1                  0  ...                               1   \n",
       "4                  1                  0  ...                               1   \n",
       "\n",
       "   CouncilArea_Yarra Ranges Shire Council  Regionname_Eastern Metropolitan  \\\n",
       "0                                       0                                0   \n",
       "1                                       0                                0   \n",
       "2                                       0                                0   \n",
       "3                                       0                                0   \n",
       "4                                       0                                0   \n",
       "\n",
       "   Regionname_Eastern Victoria  Regionname_Northern Metropolitan  \\\n",
       "0                            0                                 1   \n",
       "1                            0                                 1   \n",
       "2                            0                                 1   \n",
       "3                            0                                 1   \n",
       "4                            0                                 1   \n",
       "\n",
       "   Regionname_Northern Victoria  Regionname_South-Eastern Metropolitan  \\\n",
       "0                             0                                      0   \n",
       "1                             0                                      0   \n",
       "2                             0                                      0   \n",
       "3                             0                                      0   \n",
       "4                             0                                      0   \n",
       "\n",
       "   Regionname_Southern Metropolitan  Regionname_Western Metropolitan  \\\n",
       "0                                 0                                0   \n",
       "1                                 0                                0   \n",
       "2                                 0                                0   \n",
       "3                                 0                                0   \n",
       "4                                 0                                0   \n",
       "\n",
       "   Regionname_Western Victoria  \n",
       "0                            0  \n",
       "1                            0  \n",
       "2                            0  \n",
       "3                            0  \n",
       "4                            0  \n",
       "\n",
       "[5 rows x 799 columns]"
      ]
     },
     "execution_count": 109,
     "metadata": {},
     "output_type": "execute_result"
    }
   ],
   "source": [
    "df.head()"
   ]
  },
  {
   "cell_type": "code",
   "execution_count": 110,
   "metadata": {},
   "outputs": [
    {
     "data": {
      "text/plain": [
       "Index(['Rooms', 'Price', 'Distance', 'Postcode', 'Bathroom', 'Car', 'Landsize',\n",
       "       'Propertycount', 'Suburb_Abbotsford', 'Suburb_Aberfeldie',\n",
       "       ...\n",
       "       'CouncilArea_Yarra City Council',\n",
       "       'CouncilArea_Yarra Ranges Shire Council',\n",
       "       'Regionname_Eastern Metropolitan', 'Regionname_Eastern Victoria',\n",
       "       'Regionname_Northern Metropolitan', 'Regionname_Northern Victoria',\n",
       "       'Regionname_South-Eastern Metropolitan',\n",
       "       'Regionname_Southern Metropolitan', 'Regionname_Western Metropolitan',\n",
       "       'Regionname_Western Victoria'],\n",
       "      dtype='object', length=799)"
      ]
     },
     "execution_count": 110,
     "metadata": {},
     "output_type": "execute_result"
    }
   ],
   "source": [
    "df.columns"
   ]
  },
  {
   "cell_type": "code",
   "execution_count": 111,
   "metadata": {},
   "outputs": [
    {
     "data": {
      "text/plain": [
       "(34852, 799)"
      ]
     },
     "execution_count": 111,
     "metadata": {},
     "output_type": "execute_result"
    }
   ],
   "source": [
    "df.shape"
   ]
  },
  {
   "cell_type": "markdown",
   "metadata": {},
   "source": [
    "# Split data to Train and Test\n"
   ]
  },
  {
   "cell_type": "code",
   "execution_count": 112,
   "metadata": {},
   "outputs": [],
   "source": [
    "x = df.drop('Price', axis=1)"
   ]
  },
  {
   "cell_type": "code",
   "execution_count": 113,
   "metadata": {},
   "outputs": [],
   "source": [
    "y = df.Price"
   ]
  },
  {
   "cell_type": "code",
   "execution_count": 114,
   "metadata": {},
   "outputs": [
    {
     "data": {
      "text/plain": [
       "((34852, 798), (34852,))"
      ]
     },
     "execution_count": 114,
     "metadata": {},
     "output_type": "execute_result"
    }
   ],
   "source": [
    "x.shape , y.shape"
   ]
  },
  {
   "cell_type": "code",
   "execution_count": 115,
   "metadata": {},
   "outputs": [],
   "source": [
    "x_train,x_test,y_train,y_test = train_test_split(x,y,test_size =0.2,random_state=50)"
   ]
  },
  {
   "cell_type": "code",
   "execution_count": 116,
   "metadata": {},
   "outputs": [
    {
     "data": {
      "text/plain": [
       "(27881, 798)"
      ]
     },
     "execution_count": 116,
     "metadata": {},
     "output_type": "execute_result"
    }
   ],
   "source": [
    "x_train.shape"
   ]
  },
  {
   "cell_type": "code",
   "execution_count": 117,
   "metadata": {},
   "outputs": [
    {
     "data": {
      "text/plain": [
       "(6971, 798)"
      ]
     },
     "execution_count": 117,
     "metadata": {},
     "output_type": "execute_result"
    }
   ],
   "source": [
    "x_test.shape"
   ]
  },
  {
   "cell_type": "code",
   "execution_count": null,
   "metadata": {},
   "outputs": [],
   "source": []
  },
  {
   "cell_type": "markdown",
   "metadata": {},
   "source": [
    "# Fit the model"
   ]
  },
  {
   "cell_type": "code",
   "execution_count": 118,
   "metadata": {},
   "outputs": [],
   "source": [
    "model = LinearRegression()"
   ]
  },
  {
   "cell_type": "code",
   "execution_count": 119,
   "metadata": {},
   "outputs": [
    {
     "data": {
      "text/plain": [
       "LinearRegression()"
      ]
     },
     "execution_count": 119,
     "metadata": {},
     "output_type": "execute_result"
    }
   ],
   "source": [
    "model.fit(x_train,y_train)"
   ]
  },
  {
   "cell_type": "code",
   "execution_count": 120,
   "metadata": {},
   "outputs": [],
   "source": [
    "prediction = model.predict(x_test)"
   ]
  },
  {
   "cell_type": "code",
   "execution_count": 121,
   "metadata": {},
   "outputs": [
    {
     "data": {
      "text/plain": [
       "array([1668027.70490288,  907812.07839763,  849793.09386792, ...,\n",
       "       1236696.77710638,  876780.06142225,  971200.70152878])"
      ]
     },
     "execution_count": 121,
     "metadata": {},
     "output_type": "execute_result"
    }
   ],
   "source": [
    "prediction"
   ]
  },
  {
   "cell_type": "code",
   "execution_count": 122,
   "metadata": {},
   "outputs": [
    {
     "data": {
      "text/plain": [
       "0.5549937211076901"
      ]
     },
     "execution_count": 122,
     "metadata": {},
     "output_type": "execute_result"
    }
   ],
   "source": [
    "model.score(x_test,y_test)"
   ]
  },
  {
   "cell_type": "code",
   "execution_count": 123,
   "metadata": {},
   "outputs": [
    {
     "data": {
      "text/plain": [
       "0.5549937211076901"
      ]
     },
     "execution_count": 123,
     "metadata": {},
     "output_type": "execute_result"
    }
   ],
   "source": [
    "from sklearn.metrics import r2_score\n",
    "r2_score(y_test,prediction)"
   ]
  },
  {
   "cell_type": "markdown",
   "metadata": {},
   "source": [
    "\n",
    "# Model Evaluation"
   ]
  },
  {
   "cell_type": "code",
   "execution_count": 132,
   "metadata": {},
   "outputs": [],
   "source": [
    "from sklearn.metrics import mean_squared_error,r2_score\n"
   ]
  },
  {
   "cell_type": "code",
   "execution_count": 134,
   "metadata": {},
   "outputs": [],
   "source": [
    "mse=mean_squared_error(y_test,prediction)\n",
    "r2 = r2_score(y_test,prediction) "
   ]
  },
  {
   "cell_type": "code",
   "execution_count": 144,
   "metadata": {},
   "outputs": [
    {
     "name": "stdout",
     "output_type": "stream",
     "text": [
      "Intercept: 166192.5675498827\n",
      "Root mean squared error:  158625142481.48242\n",
      "R2 score:  0.5549937211076901\n"
     ]
    }
   ],
   "source": [
    "print('Intercept:', model.intercept_) \n",
    "print('Root mean squared error: ', mse) \n",
    "print('R2 score: ', r2) "
   ]
  },
  {
   "cell_type": "code",
   "execution_count": 124,
   "metadata": {},
   "outputs": [],
   "source": [
    "\n",
    "from sklearn.linear_model import Ridge\n",
    "from sklearn.linear_model import Lasso"
   ]
  },
  {
   "cell_type": "code",
   "execution_count": 125,
   "metadata": {},
   "outputs": [],
   "source": [
    "#To ignore warning\n",
    "import warnings\n",
    "warnings.filterwarnings('ignore')"
   ]
  },
  {
   "cell_type": "markdown",
   "metadata": {},
   "source": [
    "# Lasso Reg"
   ]
  },
  {
   "cell_type": "code",
   "execution_count": 126,
   "metadata": {},
   "outputs": [
    {
     "data": {
      "text/plain": [
       "Lasso(alpha=50, max_iter=100)"
      ]
     },
     "execution_count": 126,
     "metadata": {},
     "output_type": "execute_result"
    }
   ],
   "source": [
    "lasso_reg = Lasso(alpha=50, max_iter=100)\n",
    "lasso_reg.fit(x_train,y_train)"
   ]
  },
  {
   "cell_type": "code",
   "execution_count": 127,
   "metadata": {},
   "outputs": [
    {
     "data": {
      "text/plain": [
       "0.5877537245922972"
      ]
     },
     "execution_count": 127,
     "metadata": {},
     "output_type": "execute_result"
    }
   ],
   "source": [
    "lasso_reg.score(x_train,y_train)\n"
   ]
  },
  {
   "cell_type": "code",
   "execution_count": 128,
   "metadata": {},
   "outputs": [
    {
     "data": {
      "text/plain": [
       "0.5877537245922972"
      ]
     },
     "execution_count": 128,
     "metadata": {},
     "output_type": "execute_result"
    }
   ],
   "source": [
    "lasso_reg.score(x_train,y_train)"
   ]
  },
  {
   "cell_type": "markdown",
   "metadata": {},
   "source": [
    "# Ridge Reg"
   ]
  },
  {
   "cell_type": "code",
   "execution_count": 129,
   "metadata": {},
   "outputs": [
    {
     "data": {
      "text/plain": [
       "Ridge(alpha=50, max_iter=100)"
      ]
     },
     "execution_count": 129,
     "metadata": {},
     "output_type": "execute_result"
    }
   ],
   "source": [
    "ridge_reg= Ridge(alpha=50, max_iter=100,)\n",
    "ridge_reg.fit(x_train,y_train)"
   ]
  },
  {
   "cell_type": "code",
   "execution_count": 130,
   "metadata": {},
   "outputs": [
    {
     "data": {
      "text/plain": [
       "0.5535505073157494"
      ]
     },
     "execution_count": 130,
     "metadata": {},
     "output_type": "execute_result"
    }
   ],
   "source": [
    "ridge_reg.score(x_test, y_test)"
   ]
  },
  {
   "cell_type": "code",
   "execution_count": 131,
   "metadata": {},
   "outputs": [
    {
     "data": {
      "text/plain": [
       "0.582274516632165"
      ]
     },
     "execution_count": 131,
     "metadata": {},
     "output_type": "execute_result"
    }
   ],
   "source": [
    "ridge_reg.score(x_train,y_train)"
   ]
  }
 ],
 "metadata": {
  "kernelspec": {
   "display_name": "Python 3",
   "language": "python",
   "name": "python3"
  },
  "language_info": {
   "codemirror_mode": {
    "name": "ipython",
    "version": 3
   },
   "file_extension": ".py",
   "mimetype": "text/x-python",
   "name": "python",
   "nbconvert_exporter": "python",
   "pygments_lexer": "ipython3",
   "version": "3.8.3"
  }
 },
 "nbformat": 4,
 "nbformat_minor": 4
}
